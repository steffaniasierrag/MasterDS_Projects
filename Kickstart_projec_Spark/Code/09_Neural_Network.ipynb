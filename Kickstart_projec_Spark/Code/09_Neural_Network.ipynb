{
 "cells": [
  {
   "cell_type": "code",
   "execution_count": 1,
   "id": "ae397357-a3c9-4312-976e-62406162c628",
   "metadata": {
    "tags": []
   },
   "outputs": [],
   "source": [
    "from pyspark.ml import Pipeline\n",
    "from pyspark.ml.classification import MultilayerPerceptronClassifier\n",
    "from pyspark.ml.tuning import ParamGridBuilder, CrossValidator\n",
    "from pyspark.ml.feature import StringIndexer, VectorAssembler, OneHotEncoder, RobustScaler\n",
    "from pyspark.ml.evaluation import BinaryClassificationEvaluator, MulticlassClassificationEvaluator\n",
    "from pyspark.sql.functions import col\n",
    "from pyspark.sql import SparkSession\n",
    "import numpy as np\n",
    "import matplotlib as plt"
   ]
  },
  {
   "cell_type": "code",
   "execution_count": 2,
   "id": "edc65d89-9478-4fcf-9d82-864ba28db13c",
   "metadata": {
    "tags": []
   },
   "outputs": [
    {
     "name": "stderr",
     "output_type": "stream",
     "text": [
      "Setting default log level to \"WARN\".\n",
      "To adjust logging level use sc.setLogLevel(newLevel). For SparkR, use setLogLevel(newLevel).\n",
      "23/11/30 16:28:22 WARN NativeCodeLoader: Unable to load native-hadoop library for your platform... using builtin-java classes where applicable\n"
     ]
    }
   ],
   "source": [
    "spark = SparkSession.builder \\\n",
    "    .master(\"local\") \\\n",
    "    .appName(\"AppName\") \\\n",
    "    .getOrCreate()\n",
    "\n",
    "spark.conf.set(\"spark.sql.debug.maxToStringFields\", 200)"
   ]
  },
  {
   "cell_type": "code",
   "execution_count": 3,
   "id": "1076da1c-b751-4bb5-8144-ea8b3299eea6",
   "metadata": {
    "tags": []
   },
   "outputs": [
    {
     "name": "stderr",
     "output_type": "stream",
     "text": [
      "                                                                                \r"
     ]
    }
   ],
   "source": [
    "data = spark.read.option('escape','\"').csv('kickstarter_cleaned.csv', header=True, inferSchema=True, mode=\"DROPMALFORMED\")\n",
    "data = data.dropna()"
   ]
  },
  {
   "cell_type": "code",
   "execution_count": 4,
   "id": "289359a4-9d77-4a83-a39f-6565cdd684b7",
   "metadata": {
    "tags": []
   },
   "outputs": [],
   "source": [
    "# Split the data into training and test sets (30% held out for testing)\n",
    "(trainingData, testData) = data.randomSplit([0.7, 0.3])"
   ]
  },
  {
   "cell_type": "markdown",
   "id": "e2251469-5d34-4902-b8fd-bd3f42820c11",
   "metadata": {},
   "source": [
    "## Pipeline\n",
    "- String Indexer on categorical columns\n",
    "- Label indexer on \"state\" target column\n",
    "- Vector Assembler on numerical columns -> Robust Scaler\n",
    "- Vector Assembler on scaled features + categorical features"
   ]
  },
  {
   "cell_type": "code",
   "execution_count": 5,
   "id": "b7138e95-7696-4a24-a9dc-9e23a17ce75b",
   "metadata": {
    "tags": []
   },
   "outputs": [],
   "source": [
    "categorical_cols = [\"main_category\", \"currency\", \"year\", \"month\", \"day_of_week\", \"continent\", \"use_of_?!\"]\n",
    "numerical_cols = [\"goal\", \"time_interval\", \"length_of_title\"]"
   ]
  },
  {
   "cell_type": "code",
   "execution_count": 6,
   "id": "609ba531-dce6-4b27-99ef-d34fc2135b5f",
   "metadata": {
    "tags": []
   },
   "outputs": [],
   "source": [
    "indexers = [StringIndexer(inputCol=col, outputCol=col+\"_index\") for col in categorical_cols]\n",
    "\n",
    "label_indexer = StringIndexer(inputCol=\"state\", outputCol=\"state_index\")"
   ]
  },
  {
   "cell_type": "code",
   "execution_count": 7,
   "id": "343115cd-2ee3-4d44-bfaa-26e1724060db",
   "metadata": {
    "tags": []
   },
   "outputs": [],
   "source": [
    "num_assembler = VectorAssembler(inputCols=numerical_cols, outputCol=\"features\")\n",
    "scaler = RobustScaler(inputCol=\"features\", outputCol=\"scaled_features\")"
   ]
  },
  {
   "cell_type": "code",
   "execution_count": 8,
   "id": "2cb67b66-99d0-428c-be08-f7cb795b1af4",
   "metadata": {
    "tags": []
   },
   "outputs": [],
   "source": [
    "assembler_all = VectorAssembler(inputCols=[\"scaled_features\"] + [col+\"_index\" for col in categorical_cols], outputCol=\"final_features\")"
   ]
  },
  {
   "cell_type": "code",
   "execution_count": 9,
   "id": "c503f1e0-7d85-4091-baac-77362897f48e",
   "metadata": {
    "tags": []
   },
   "outputs": [
    {
     "name": "stderr",
     "output_type": "stream",
     "text": [
      "                                                                                \r"
     ]
    }
   ],
   "source": [
    "pipeline = Pipeline(stages=indexers + [label_indexer, num_assembler, scaler, assembler_all])\n",
    "pipeline_model = pipeline.fit(trainingData)\n",
    "trainingData = pipeline_model.transform(trainingData)"
   ]
  },
  {
   "cell_type": "code",
   "execution_count": 10,
   "id": "feabaf16-3cf0-475a-91ea-6f97d2e44512",
   "metadata": {
    "jupyter": {
     "source_hidden": true
    },
    "tags": []
   },
   "outputs": [],
   "source": [
    "for cols in categorical_cols:\n",
    "    name_col = cols+\"_index\"\n",
    "    trainingData = trainingData.withColumn(name_col, col(name_col).cast(\"integer\"))"
   ]
  },
  {
   "cell_type": "markdown",
   "id": "919b9cf5-f395-4247-9827-e09df0b4b6f9",
   "metadata": {},
   "source": [
    "## MultiLayer Perceptron"
   ]
  },
  {
   "cell_type": "markdown",
   "id": "59a6d69b-2d81-4ae5-bb9e-5ea1934e1297",
   "metadata": {},
   "source": [
    "#### Model"
   ]
  },
  {
   "cell_type": "code",
   "execution_count": 11,
   "id": "91a0139b-1bd0-44c6-8212-8d617b21ab45",
   "metadata": {
    "tags": []
   },
   "outputs": [],
   "source": [
    "mlp = MultilayerPerceptronClassifier(labelCol=\"state_index\", featuresCol=\"final_features\", \\\n",
    "                                     layers=[len(numerical_cols) + len(categorical_cols), 2, 2, 2], \\\n",
    "                                     stepSize=0.05, \\\n",
    "                                     maxIter=80, \\\n",
    "                                     seed=42)"
   ]
  },
  {
   "cell_type": "markdown",
   "id": "825bbb40-c094-4051-b802-fd40c698aa30",
   "metadata": {},
   "source": [
    "#### Train"
   ]
  },
  {
   "cell_type": "code",
   "execution_count": 12,
   "id": "3214251d-6046-4434-9a88-7d490ea8cc62",
   "metadata": {
    "tags": []
   },
   "outputs": [
    {
     "name": "stderr",
     "output_type": "stream",
     "text": [
      "                                                                                \r"
     ]
    },
    {
     "name": "stdout",
     "output_type": "stream",
     "text": [
      "CPU times: user 37.5 ms, sys: 21.5 ms, total: 59 ms\n",
      "Wall time: 51 s\n"
     ]
    }
   ],
   "source": [
    "%%time\n",
    "mlp_model = mlp.fit(trainingData)"
   ]
  },
  {
   "cell_type": "markdown",
   "id": "cb9ce859-4e9e-4fe7-80db-304e27e23664",
   "metadata": {},
   "source": [
    "#### Test"
   ]
  },
  {
   "cell_type": "code",
   "execution_count": 13,
   "id": "ac3a85d1-fc71-47cf-a04b-ac3888a23133",
   "metadata": {},
   "outputs": [],
   "source": [
    "testData = pipeline_model.transform(testData)\n",
    "predictions = mlp_model.transform(testData)"
   ]
  },
  {
   "cell_type": "markdown",
   "id": "5af243e3-afdc-45b7-9f42-91fe40fc2f7e",
   "metadata": {},
   "source": [
    "#### Performance"
   ]
  },
  {
   "cell_type": "code",
   "execution_count": 14,
   "id": "3c74e44e-e528-4f8d-9055-cd6ab3ea2fef",
   "metadata": {
    "tags": []
   },
   "outputs": [
    {
     "name": "stderr",
     "output_type": "stream",
     "text": [
      "[Stage 130:>                                                        (0 + 1) / 1]\r"
     ]
    },
    {
     "name": "stdout",
     "output_type": "stream",
     "text": [
      "Area under ROC (AUROC): 0.671037641494408\n",
      "F-measure: 0.6218828699601252\n"
     ]
    },
    {
     "name": "stderr",
     "output_type": "stream",
     "text": [
      "                                                                                \r"
     ]
    }
   ],
   "source": [
    "binary_evaluator = BinaryClassificationEvaluator(labelCol=\"state_index\", metricName=\"areaUnderROC\")\n",
    "auroc = binary_evaluator.evaluate(predictions)\n",
    "\n",
    "# Evaluate F-measure\n",
    "multiclass_evaluator = MulticlassClassificationEvaluator(labelCol=\"state_index\", metricName=\"f1\")\n",
    "f_measure = multiclass_evaluator.evaluate(predictions)\n",
    "\n",
    "print(f\"Area under ROC (AUROC): {auroc}\")\n",
    "print(f\"F-measure: {f_measure}\")"
   ]
  },
  {
   "cell_type": "code",
   "execution_count": 15,
   "id": "db8ab4ba-41c9-49fe-a0a8-6d01d30e10dd",
   "metadata": {
    "tags": []
   },
   "outputs": [
    {
     "name": "stdout",
     "output_type": "stream",
     "text": [
      "Input Layer Weights:\n",
      "Weight of goal: 0.25396692955299305\n",
      "Weight of time_interval: -2.518343131071752\n",
      "Weight of length_of_title: 0.18499214622141333\n",
      "Weight of main_category: -0.0880339192874887\n",
      "Weight of currency: -1.1620272816577222\n",
      "Weight of year: -0.16586887360398933\n",
      "Weight of month: 0.06295690333799958\n",
      "Weight of day_of_week: 0.02181254815024463\n",
      "Weight of continent: 0.2363525889079787\n",
      "Weight of use_of_?!: 0.18670245633045898\n"
     ]
    }
   ],
   "source": [
    "input_layer_weights = mlp_model.weights.toArray()[:len(numerical_cols) + len(categorical_cols)]\n",
    "\n",
    "features_name = [\"goal\", \"time_interval\", \"length_of_title\", \"main_category\", \"currency\", \"year\", \"month\", \"day_of_week\", \"continent\", \"use_of_?!\"]\n",
    "\n",
    "print(\"Input Layer Weights:\")\n",
    "for i, weight in enumerate(input_layer_weights):\n",
    "    print(f\"Weight of {features_name[i]}: \"+f\"{weight}\")"
   ]
  },
  {
   "cell_type": "markdown",
   "id": "a2392bf5-01a9-4f34-95af-a4868393f32e",
   "metadata": {},
   "source": [
    "## GridSearch with CrossValidation"
   ]
  },
  {
   "cell_type": "code",
   "execution_count": 16,
   "id": "0028b95a-2df2-4cb5-93ec-ba28b8275eff",
   "metadata": {
    "tags": []
   },
   "outputs": [],
   "source": [
    "mlp_grid = MultilayerPerceptronClassifier(labelCol=\"state_index\", featuresCol=\"final_features\", \\\n",
    "                                     layers=[len(numerical_cols) + len(categorical_cols), 2, 2, 2], \\\n",
    "                                         maxIter=100)"
   ]
  },
  {
   "cell_type": "code",
   "execution_count": 17,
   "id": "335ebc4c-8dba-4583-a8ce-40df4e858dd9",
   "metadata": {
    "tags": []
   },
   "outputs": [],
   "source": [
    "param_grid = ParamGridBuilder() \\\n",
    "    .addGrid(mlp_grid.layers, [[len(numerical_cols) + len(categorical_cols), 2, 2, 2], \\\n",
    "                               [len(numerical_cols) + len(categorical_cols), 4, 4, 2],\\\n",
    "                              [len(numerical_cols) + len(categorical_cols), 6, 4, 2]]) \\\n",
    "    .addGrid(mlp_grid.stepSize, [0.01, 0.05, 0.1]) \\\n",
    "    .build()"
   ]
  },
  {
   "cell_type": "code",
   "execution_count": 18,
   "id": "f56ca791-890f-49d8-a429-151cd7c0b53b",
   "metadata": {
    "tags": []
   },
   "outputs": [],
   "source": [
    "evaluator = BinaryClassificationEvaluator(labelCol=\"state_index\", metricName=\"areaUnderROC\")\n",
    "\n",
    "crossval = CrossValidator(estimator=mlp_grid,\n",
    "                          estimatorParamMaps=param_grid,\n",
    "                          evaluator=evaluator,\n",
    "                          numFolds=4) "
   ]
  },
  {
   "cell_type": "code",
   "execution_count": 19,
   "id": "78e5e0cd-9b90-4b25-9c1f-4ae270950ea0",
   "metadata": {
    "tags": []
   },
   "outputs": [
    {
     "name": "stderr",
     "output_type": "stream",
     "text": [
      "                                                                                \r"
     ]
    },
    {
     "name": "stdout",
     "output_type": "stream",
     "text": [
      "CPU times: user 2.73 s, sys: 608 ms, total: 3.34 s\n",
      "Wall time: 29min 56s\n"
     ]
    }
   ],
   "source": [
    "%%time\n",
    "cv_model = crossval.fit(trainingData)"
   ]
  },
  {
   "cell_type": "code",
   "execution_count": 22,
   "id": "389768e4-637e-4732-9df2-69d6df715831",
   "metadata": {
    "tags": []
   },
   "outputs": [
    {
     "name": "stdout",
     "output_type": "stream",
     "text": [
      "blockSize: 128\n",
      "featuresCol: final_features\n",
      "labelCol: state_index\n",
      "maxIter: 100\n",
      "predictionCol: prediction\n",
      "probabilityCol: probability\n",
      "rawPredictionCol: rawPrediction\n",
      "seed: 3625276727404315868\n",
      "solver: l-bfgs\n",
      "stepSize: 0.01\n",
      "tol: 1e-06\n",
      "layers: [10, 6, 4, 2]\n"
     ]
    }
   ],
   "source": [
    "#Print hyperparameters of the model\n",
    "best_model = cv_model.bestModel\n",
    "best_model_params = best_model.extractParamMap()\n",
    "\n",
    "for param, value in best_model_params.items():\n",
    "    print(f\"{param.name}: {value}\")"
   ]
  },
  {
   "cell_type": "code",
   "execution_count": 20,
   "id": "3455e46f-0986-4e0f-b189-b6a8f52f4866",
   "metadata": {},
   "outputs": [],
   "source": [
    "#testData = pipeline_model.transform(testData)\n",
    "predictions = cv_model.transform(testData)"
   ]
  },
  {
   "cell_type": "code",
   "execution_count": 21,
   "id": "bf502637-7663-4398-8dad-9e05b289561d",
   "metadata": {
    "tags": []
   },
   "outputs": [
    {
     "name": "stderr",
     "output_type": "stream",
     "text": [
      "[Stage 4698:>                                                       (0 + 1) / 1]\r"
     ]
    },
    {
     "name": "stdout",
     "output_type": "stream",
     "text": [
      "Area under ROC (AUROC): 0.6744945687664258\n",
      "F-measure: 0.6241596088716185\n"
     ]
    },
    {
     "name": "stderr",
     "output_type": "stream",
     "text": [
      "                                                                                \r"
     ]
    }
   ],
   "source": [
    "binary_evaluator = BinaryClassificationEvaluator(labelCol=\"state_index\", metricName=\"areaUnderROC\")\n",
    "auroc = binary_evaluator.evaluate(predictions)\n",
    "\n",
    "# Evaluate F-measure\n",
    "multiclass_evaluator = MulticlassClassificationEvaluator(labelCol=\"state_index\", metricName=\"f1\")\n",
    "f_measure = multiclass_evaluator.evaluate(predictions)\n",
    "\n",
    "# Evaluate Accuracy\n",
    "acc_evaluator = MulticlassClassificationEvaluator(labelCol=\"state_index\", metricName=\"accuracy\")\n",
    "acc_measure = acc_evaluator.evaluate(predictions)\n",
    "\n",
    "print(f\"Area under ROC (AUROC): {auroc}\")\n",
    "print(f\"F-measure: {f_measure}\")\n",
    "print(f\"Accuracy: {acc_measure}\")"
   ]
  }
 ],
 "metadata": {
  "kernelspec": {
   "display_name": "Python 3 (ipykernel)",
   "language": "python",
   "name": "python3"
  },
  "language_info": {
   "codemirror_mode": {
    "name": "ipython",
    "version": 3
   },
   "file_extension": ".py",
   "mimetype": "text/x-python",
   "name": "python",
   "nbconvert_exporter": "python",
   "pygments_lexer": "ipython3",
   "version": "3.10.11"
  }
 },
 "nbformat": 4,
 "nbformat_minor": 5
}
