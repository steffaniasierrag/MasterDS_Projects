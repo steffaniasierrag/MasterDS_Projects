{
 "cells": [
  {
   "cell_type": "code",
   "execution_count": 5,
   "id": "084e15b4-fd04-4b7e-b996-f6961a6480f3",
   "metadata": {
    "tags": []
   },
   "outputs": [],
   "source": [
    "from pyspark.ml import Pipeline\n",
    "from pyspark.ml.classification import GBTClassifier\n",
    "from pyspark.ml.tuning import ParamGridBuilder, CrossValidator\n",
    "from pyspark.ml.feature import StringIndexer, VectorAssembler, OneHotEncoder, RobustScaler\n",
    "from pyspark.ml.evaluation import BinaryClassificationEvaluator, MulticlassClassificationEvaluator\n",
    "from pyspark.mllib.evaluation import BinaryClassificationMetrics\n",
    "from pyspark.sql.functions import length, col, expr\n",
    "from pyspark.sql import SparkSession"
   ]
  },
  {
   "cell_type": "code",
   "execution_count": 6,
   "id": "530af442-04f7-448e-af9d-bf21ad87104b",
   "metadata": {
    "tags": []
   },
   "outputs": [
    {
     "name": "stderr",
     "output_type": "stream",
     "text": [
      "Setting default log level to \"WARN\".\n",
      "To adjust logging level use sc.setLogLevel(newLevel). For SparkR, use setLogLevel(newLevel).\n",
      "23/12/06 21:06:04 WARN NativeCodeLoader: Unable to load native-hadoop library for your platform... using builtin-java classes where applicable\n",
      "23/12/06 21:06:06 WARN Utils: Service 'SparkUI' could not bind on port 4040. Attempting port 4041.\n",
      "23/12/06 21:06:06 WARN Utils: Service 'SparkUI' could not bind on port 4041. Attempting port 4042.\n"
     ]
    }
   ],
   "source": [
    "spark = SparkSession.builder \\\n",
    "    .master(\"local\") \\\n",
    "    .appName(\"AppName\") \\\n",
    "    .getOrCreate()\n",
    "\n",
    "spark.conf.set(\"spark.sql.debug.maxToStringFields\", 200)"
   ]
  },
  {
   "cell_type": "code",
   "execution_count": 7,
   "id": "f8c2bea8-c37f-45d7-9f27-df1be353e0bc",
   "metadata": {
    "tags": []
   },
   "outputs": [
    {
     "name": "stderr",
     "output_type": "stream",
     "text": [
      "                                                                                \r"
     ]
    }
   ],
   "source": [
    "data = spark.read.option('escape','\"').csv('kickstarter_cleaned.csv', header=True, inferSchema=True, mode=\"DROPMALFORMED\")\n",
    "data = data.dropna()"
   ]
  },
  {
   "cell_type": "code",
   "execution_count": 8,
   "id": "65abe8bc-e869-4fd5-a128-5f7801cb4598",
   "metadata": {
    "tags": []
   },
   "outputs": [],
   "source": [
    "# Split the data into training and test sets (30% held out for testing)\n",
    "(trainingData, testData) = data.randomSplit([0.7, 0.3])"
   ]
  },
  {
   "cell_type": "markdown",
   "id": "18fc1fa9-827b-4f04-8951-175250e6f964",
   "metadata": {},
   "source": [
    "## Pipeline\n",
    "- String Indexer on categorical columns\n",
    "- Label indexer on \"state\" target column\n",
    "- Vector Assembler on numerical columns -> Robust Scaler\n",
    "- Vector Assembler on scaled features + categorical features"
   ]
  },
  {
   "cell_type": "code",
   "execution_count": 9,
   "id": "35fbc1b9-a1a4-4f21-9f5c-dcd96c559683",
   "metadata": {
    "tags": []
   },
   "outputs": [],
   "source": [
    "categorical_cols = [\"main_category\", \"currency\", \"year\", \"month\", \"day_of_week\", \"continent\", \"use_of_?!\"]\n",
    "numerical_cols = [\"goal\", \"time_interval\", \"length_of_title\"]"
   ]
  },
  {
   "cell_type": "code",
   "execution_count": 10,
   "id": "834b3914-d4cc-4e7a-a8eb-fa20f1cdd640",
   "metadata": {
    "tags": []
   },
   "outputs": [],
   "source": [
    "indexers = [StringIndexer(inputCol=col, outputCol=col+\"_index\") for col in categorical_cols]\n",
    "\n",
    "label_indexer = StringIndexer(inputCol=\"state\", outputCol=\"state_index\")"
   ]
  },
  {
   "cell_type": "code",
   "execution_count": 11,
   "id": "ff7e517a-a470-498d-bce2-29bf6f43ce0d",
   "metadata": {
    "tags": []
   },
   "outputs": [],
   "source": [
    "num_assembler = VectorAssembler(inputCols=numerical_cols, outputCol=\"features\")\n",
    "scaler = RobustScaler(inputCol=\"features\", outputCol=\"scaled_features\")"
   ]
  },
  {
   "cell_type": "code",
   "execution_count": 12,
   "id": "1e3494d1-143d-4f51-b8cc-45497c5c5de8",
   "metadata": {
    "tags": []
   },
   "outputs": [],
   "source": [
    "assembler_all = VectorAssembler(inputCols=[\"scaled_features\"] + [col+\"_index\" for col in categorical_cols], outputCol=\"final_features\")"
   ]
  },
  {
   "cell_type": "code",
   "execution_count": 13,
   "id": "715ead3e-db53-4932-b5c7-6ba492732b2f",
   "metadata": {
    "tags": []
   },
   "outputs": [
    {
     "name": "stderr",
     "output_type": "stream",
     "text": [
      "                                                                                \r"
     ]
    }
   ],
   "source": [
    "pipeline = Pipeline(stages=indexers + [label_indexer, num_assembler, scaler, assembler_all])\n",
    "pipeline_model = pipeline.fit(trainingData)\n",
    "trainingData = pipeline_model.transform(trainingData)"
   ]
  },
  {
   "cell_type": "markdown",
   "id": "5328da54-e77a-4204-a4e3-ffb6208aa200",
   "metadata": {},
   "source": [
    "## GBT Model"
   ]
  },
  {
   "cell_type": "markdown",
   "id": "9c342765-d81d-41b1-bfa2-db2dde1bb0cc",
   "metadata": {},
   "source": [
    "The model defined here use the hyperparameters found with the grid search. Useful to test the model and avoid a huge computation time do to the cross validation."
   ]
  },
  {
   "cell_type": "code",
   "execution_count": 14,
   "id": "cff1358c-b992-43c2-bc66-3b027be9b3b1",
   "metadata": {
    "tags": []
   },
   "outputs": [
    {
     "name": "stderr",
     "output_type": "stream",
     "text": [
      "                                                                                \r"
     ]
    }
   ],
   "source": [
    "gbt = GBTClassifier(featuresCol=\"final_features\", labelCol=\"state_index\", maxDepth=5, maxIter=30, stepSize=0.2)\n",
    "gbt_model = gbt.fit(trainingData)"
   ]
  },
  {
   "cell_type": "code",
   "execution_count": 15,
   "id": "b95a7616-d5b3-42de-aa6a-e29767bac52f",
   "metadata": {
    "tags": []
   },
   "outputs": [],
   "source": [
    "evaluator_ROC = BinaryClassificationEvaluator(labelCol=\"state_index\", metricName=\"areaUnderROC\")\n",
    "evaluator_acc = MulticlassClassificationEvaluator(labelCol=\"state_index\", metricName=\"accuracy\")\n",
    "evaluator_f1 = MulticlassClassificationEvaluator(labelCol=\"state_index\", metricName=\"f1\")"
   ]
  },
  {
   "cell_type": "code",
   "execution_count": 16,
   "id": "41becf6c-b882-49aa-b596-6144f6cc3244",
   "metadata": {
    "tags": []
   },
   "outputs": [],
   "source": [
    "testData = pipeline_model.transform(testData)"
   ]
  },
  {
   "cell_type": "code",
   "execution_count": 17,
   "id": "4cf5a038-8f5d-464b-a759-12f1117d401c",
   "metadata": {
    "tags": []
   },
   "outputs": [
    {
     "name": "stderr",
     "output_type": "stream",
     "text": [
      "                                                                                \r"
     ]
    },
    {
     "name": "stdout",
     "output_type": "stream",
     "text": [
      "Area under ROC on test data = 0.7271306362921649\n"
     ]
    },
    {
     "name": "stderr",
     "output_type": "stream",
     "text": [
      "                                                                                \r"
     ]
    },
    {
     "name": "stdout",
     "output_type": "stream",
     "text": [
      "Accuracy on test data = 0.6763290834736589\n"
     ]
    },
    {
     "name": "stderr",
     "output_type": "stream",
     "text": [
      "[Stage 343:>                                                        (0 + 1) / 1]\r"
     ]
    },
    {
     "name": "stdout",
     "output_type": "stream",
     "text": [
      "Accuracy on test data = 0.6693893770306584\n"
     ]
    },
    {
     "name": "stderr",
     "output_type": "stream",
     "text": [
      "                                                                                \r"
     ]
    }
   ],
   "source": [
    "predictions = gbt_model.transform(testData)\n",
    "\n",
    "area_under_roc = evaluator_ROC.evaluate(predictions)\n",
    "print(f\"Area under ROC on test data = {area_under_roc}\")\n",
    "\n",
    "accuracy = evaluator_acc.evaluate(predictions)\n",
    "print(f\"Accuracy on test data = {accuracy}\")\n",
    "\n",
    "f1 = evaluator_f1.evaluate(predictions)\n",
    "print(f\"Accuracy on test data = {f1}\")"
   ]
  },
  {
   "cell_type": "markdown",
   "id": "b85571f2-5cc3-48df-9e28-94a08c3a05c9",
   "metadata": {},
   "source": [
    "### With Cross Validation + GridSearch"
   ]
  },
  {
   "cell_type": "code",
   "execution_count": 11,
   "id": "1643b96c-2720-4a5b-9f53-e4ecf84c2ea9",
   "metadata": {
    "tags": []
   },
   "outputs": [],
   "source": [
    "gbt = GBTClassifier(featuresCol=\"final_features\", labelCol=\"state_index\")\n",
    "\n",
    "param_grid = ParamGridBuilder() \\\n",
    "    .addGrid(gbt.maxDepth, [5, 7]) \\\n",
    "    .addGrid(gbt.maxIter, [20, 30]) \\\n",
    "    .addGrid(gbt.stepSize, [0.1, 0.2]) \\\n",
    "    .build()"
   ]
  },
  {
   "cell_type": "code",
   "execution_count": 12,
   "id": "7afd2493-345c-42f5-a8bf-430e002544db",
   "metadata": {
    "tags": []
   },
   "outputs": [],
   "source": [
    "evaluator = BinaryClassificationEvaluator(labelCol=\"state_index\", metricName=\"areaUnderROC\")\n",
    "\n",
    "crossval = CrossValidator(estimator=gbt,\n",
    "                          estimatorParamMaps=param_grid,\n",
    "                          evaluator=evaluator,\n",
    "                          numFolds=4) "
   ]
  },
  {
   "cell_type": "code",
   "execution_count": 13,
   "id": "e647243c-74e7-4056-a6cd-f363c1c0cb83",
   "metadata": {
    "collapsed": true,
    "jupyter": {
     "outputs_hidden": true
    },
    "tags": []
   },
   "outputs": [
    {
     "name": "stderr",
     "output_type": "stream",
     "text": [
      "23/11/30 14:37:37 WARN DAGScheduler: Broadcasting large task binary with size 1006.1 KiB\n",
      "23/11/30 14:37:38 WARN DAGScheduler: Broadcasting large task binary with size 1006.6 KiB\n",
      "23/11/30 14:37:38 WARN DAGScheduler: Broadcasting large task binary with size 1007.5 KiB\n",
      "23/11/30 14:37:38 WARN DAGScheduler: Broadcasting large task binary with size 1008.8 KiB\n",
      "23/11/30 14:37:38 WARN DAGScheduler: Broadcasting large task binary with size 1011.9 KiB\n",
      "23/11/30 14:37:38 WARN DAGScheduler: Broadcasting large task binary with size 1017.5 KiB\n",
      "23/11/30 14:37:38 WARN DAGScheduler: Broadcasting large task binary with size 1028.7 KiB\n",
      "23/11/30 14:37:39 WARN DAGScheduler: Broadcasting large task binary with size 1037.1 KiB\n",
      "23/11/30 14:37:39 WARN DAGScheduler: Broadcasting large task binary with size 1037.6 KiB\n",
      "23/11/30 14:37:39 WARN DAGScheduler: Broadcasting large task binary with size 1038.4 KiB\n",
      "23/11/30 14:37:39 WARN DAGScheduler: Broadcasting large task binary with size 1039.7 KiB\n",
      "23/11/30 14:37:39 WARN DAGScheduler: Broadcasting large task binary with size 1042.5 KiB\n",
      "23/11/30 14:37:40 WARN DAGScheduler: Broadcasting large task binary with size 1048.7 KiB\n",
      "23/11/30 14:37:40 WARN DAGScheduler: Broadcasting large task binary with size 1060.1 KiB\n",
      "23/11/30 14:37:40 WARN DAGScheduler: Broadcasting large task binary with size 1068.2 KiB\n",
      "23/11/30 14:37:40 WARN DAGScheduler: Broadcasting large task binary with size 1068.7 KiB\n",
      "23/11/30 14:37:41 WARN DAGScheduler: Broadcasting large task binary with size 1069.5 KiB\n",
      "23/11/30 14:37:41 WARN DAGScheduler: Broadcasting large task binary with size 1070.8 KiB\n",
      "23/11/30 14:37:41 WARN DAGScheduler: Broadcasting large task binary with size 1073.7 KiB\n",
      "23/11/30 14:37:41 WARN DAGScheduler: Broadcasting large task binary with size 1079.1 KiB\n",
      "23/11/30 14:37:41 WARN DAGScheduler: Broadcasting large task binary with size 1091.0 KiB\n",
      "23/11/30 14:37:42 WARN DAGScheduler: Broadcasting large task binary with size 1099.7 KiB\n",
      "23/11/30 14:37:42 WARN DAGScheduler: Broadcasting large task binary with size 1100.2 KiB\n",
      "23/11/30 14:37:42 WARN DAGScheduler: Broadcasting large task binary with size 1100.7 KiB\n",
      "23/11/30 14:37:42 WARN DAGScheduler: Broadcasting large task binary with size 1102.2 KiB\n",
      "23/11/30 14:37:43 WARN DAGScheduler: Broadcasting large task binary with size 1105.3 KiB\n",
      "23/11/30 14:37:43 WARN DAGScheduler: Broadcasting large task binary with size 1111.1 KiB\n",
      "23/11/30 14:37:43 WARN DAGScheduler: Broadcasting large task binary with size 1123.5 KiB\n",
      "23/11/30 14:37:44 WARN DAGScheduler: Broadcasting large task binary with size 1118.2 KiB\n",
      "23/11/30 14:38:29 WARN DAGScheduler: Broadcasting large task binary with size 1000.3 KiB\n",
      "23/11/30 14:38:29 WARN DAGScheduler: Broadcasting large task binary with size 1000.9 KiB\n",
      "23/11/30 14:38:29 WARN DAGScheduler: Broadcasting large task binary with size 1002.4 KiB\n",
      "23/11/30 14:38:29 WARN DAGScheduler: Broadcasting large task binary with size 1005.4 KiB\n",
      "23/11/30 14:38:30 WARN DAGScheduler: Broadcasting large task binary with size 1011.1 KiB\n",
      "23/11/30 14:38:30 WARN DAGScheduler: Broadcasting large task binary with size 1022.5 KiB\n",
      "23/11/30 14:38:30 WARN DAGScheduler: Broadcasting large task binary with size 1031.5 KiB\n",
      "23/11/30 14:38:30 WARN DAGScheduler: Broadcasting large task binary with size 1032.0 KiB\n",
      "23/11/30 14:38:31 WARN DAGScheduler: Broadcasting large task binary with size 1032.7 KiB\n",
      "23/11/30 14:38:31 WARN DAGScheduler: Broadcasting large task binary with size 1034.1 KiB\n",
      "23/11/30 14:38:31 WARN DAGScheduler: Broadcasting large task binary with size 1037.0 KiB\n",
      "23/11/30 14:38:31 WARN DAGScheduler: Broadcasting large task binary with size 1042.6 KiB\n",
      "23/11/30 14:38:31 WARN DAGScheduler: Broadcasting large task binary with size 1054.5 KiB\n",
      "23/11/30 14:38:32 WARN DAGScheduler: Broadcasting large task binary with size 1062.9 KiB\n",
      "23/11/30 14:38:32 WARN DAGScheduler: Broadcasting large task binary with size 1063.3 KiB\n",
      "23/11/30 14:38:32 WARN DAGScheduler: Broadcasting large task binary with size 1064.2 KiB\n",
      "23/11/30 14:38:32 WARN DAGScheduler: Broadcasting large task binary with size 1065.5 KiB\n",
      "23/11/30 14:38:32 WARN DAGScheduler: Broadcasting large task binary with size 1068.5 KiB\n",
      "23/11/30 14:38:33 WARN DAGScheduler: Broadcasting large task binary with size 1074.3 KiB\n",
      "23/11/30 14:38:33 WARN DAGScheduler: Broadcasting large task binary with size 1085.1 KiB\n",
      "23/11/30 14:38:33 WARN DAGScheduler: Broadcasting large task binary with size 1092.6 KiB\n",
      "23/11/30 14:38:34 WARN DAGScheduler: Broadcasting large task binary with size 1093.1 KiB\n",
      "23/11/30 14:38:34 WARN DAGScheduler: Broadcasting large task binary with size 1093.7 KiB\n",
      "23/11/30 14:38:34 WARN DAGScheduler: Broadcasting large task binary with size 1095.0 KiB\n",
      "23/11/30 14:38:34 WARN DAGScheduler: Broadcasting large task binary with size 1097.7 KiB\n",
      "23/11/30 14:38:34 WARN DAGScheduler: Broadcasting large task binary with size 1103.5 KiB\n",
      "23/11/30 14:38:34 WARN DAGScheduler: Broadcasting large task binary with size 1115.0 KiB\n",
      "23/11/30 14:38:35 WARN DAGScheduler: Broadcasting large task binary with size 1108.6 KiB\n",
      "23/11/30 14:42:46 WARN DAGScheduler: Broadcasting large task binary with size 1001.3 KiB\n",
      "23/11/30 14:42:46 WARN DAGScheduler: Broadcasting large task binary with size 1004.1 KiB\n",
      "23/11/30 14:42:46 WARN DAGScheduler: Broadcasting large task binary with size 1009.6 KiB\n",
      "23/11/30 14:42:46 WARN DAGScheduler: Broadcasting large task binary with size 1021.4 KiB\n",
      "23/11/30 14:42:47 WARN DAGScheduler: Broadcasting large task binary with size 1030.3 KiB\n",
      "23/11/30 14:42:47 WARN DAGScheduler: Broadcasting large task binary with size 1030.7 KiB\n",
      "23/11/30 14:42:48 WARN DAGScheduler: Broadcasting large task binary with size 1031.5 KiB\n",
      "23/11/30 14:42:48 WARN DAGScheduler: Broadcasting large task binary with size 1033.0 KiB\n",
      "23/11/30 14:42:49 WARN DAGScheduler: Broadcasting large task binary with size 1036.0 KiB\n",
      "23/11/30 14:42:49 WARN DAGScheduler: Broadcasting large task binary with size 1042.0 KiB\n",
      "23/11/30 14:42:49 WARN DAGScheduler: Broadcasting large task binary with size 1053.7 KiB\n",
      "23/11/30 14:42:49 WARN DAGScheduler: Broadcasting large task binary with size 1062.4 KiB\n",
      "23/11/30 14:42:50 WARN DAGScheduler: Broadcasting large task binary with size 1062.9 KiB\n",
      "23/11/30 14:42:50 WARN DAGScheduler: Broadcasting large task binary with size 1063.5 KiB\n",
      "23/11/30 14:42:50 WARN DAGScheduler: Broadcasting large task binary with size 1065.0 KiB\n",
      "23/11/30 14:42:50 WARN DAGScheduler: Broadcasting large task binary with size 1067.9 KiB\n",
      "23/11/30 14:42:50 WARN DAGScheduler: Broadcasting large task binary with size 1073.2 KiB\n",
      "23/11/30 14:42:51 WARN DAGScheduler: Broadcasting large task binary with size 1084.4 KiB\n",
      "23/11/30 14:42:51 WARN DAGScheduler: Broadcasting large task binary with size 1093.3 KiB\n",
      "23/11/30 14:42:51 WARN DAGScheduler: Broadcasting large task binary with size 1093.8 KiB\n",
      "23/11/30 14:42:51 WARN DAGScheduler: Broadcasting large task binary with size 1094.5 KiB\n",
      "23/11/30 14:42:51 WARN DAGScheduler: Broadcasting large task binary with size 1095.9 KiB\n",
      "23/11/30 14:42:52 WARN DAGScheduler: Broadcasting large task binary with size 1099.0 KiB\n",
      "23/11/30 14:42:52 WARN DAGScheduler: Broadcasting large task binary with size 1104.9 KiB\n",
      "23/11/30 14:42:52 WARN DAGScheduler: Broadcasting large task binary with size 1116.3 KiB\n",
      "23/11/30 14:42:52 WARN DAGScheduler: Broadcasting large task binary with size 1110.2 KiB\n",
      "23/11/30 14:43:44 WARN DAGScheduler: Broadcasting large task binary with size 1008.7 KiB\n",
      "23/11/30 14:43:44 WARN DAGScheduler: Broadcasting large task binary with size 1017.6 KiB\n",
      "23/11/30 14:43:45 WARN DAGScheduler: Broadcasting large task binary with size 1018.1 KiB\n",
      "23/11/30 14:43:45 WARN DAGScheduler: Broadcasting large task binary with size 1018.6 KiB\n",
      "23/11/30 14:43:45 WARN DAGScheduler: Broadcasting large task binary with size 1020.2 KiB\n",
      "23/11/30 14:43:45 WARN DAGScheduler: Broadcasting large task binary with size 1023.1 KiB\n",
      "23/11/30 14:43:45 WARN DAGScheduler: Broadcasting large task binary with size 1029.0 KiB\n",
      "23/11/30 14:43:46 WARN DAGScheduler: Broadcasting large task binary with size 1040.1 KiB\n",
      "23/11/30 14:43:46 WARN DAGScheduler: Broadcasting large task binary with size 1048.8 KiB\n",
      "23/11/30 14:43:46 WARN DAGScheduler: Broadcasting large task binary with size 1049.3 KiB\n",
      "23/11/30 14:43:46 WARN DAGScheduler: Broadcasting large task binary with size 1050.0 KiB\n",
      "23/11/30 14:43:47 WARN DAGScheduler: Broadcasting large task binary with size 1051.3 KiB\n",
      "23/11/30 14:43:47 WARN DAGScheduler: Broadcasting large task binary with size 1054.2 KiB\n",
      "23/11/30 14:43:47 WARN DAGScheduler: Broadcasting large task binary with size 1060.0 KiB\n",
      "23/11/30 14:43:47 WARN DAGScheduler: Broadcasting large task binary with size 1071.2 KiB\n",
      "23/11/30 14:43:48 WARN DAGScheduler: Broadcasting large task binary with size 1079.0 KiB\n",
      "23/11/30 14:43:48 WARN DAGScheduler: Broadcasting large task binary with size 1079.5 KiB\n",
      "23/11/30 14:43:48 WARN DAGScheduler: Broadcasting large task binary with size 1080.2 KiB\n",
      "23/11/30 14:43:48 WARN DAGScheduler: Broadcasting large task binary with size 1081.6 KiB\n",
      "23/11/30 14:43:49 WARN DAGScheduler: Broadcasting large task binary with size 1084.5 KiB\n",
      "23/11/30 14:43:49 WARN DAGScheduler: Broadcasting large task binary with size 1089.8 KiB\n",
      "23/11/30 14:43:49 WARN DAGScheduler: Broadcasting large task binary with size 1100.8 KiB\n",
      "23/11/30 14:43:49 WARN DAGScheduler: Broadcasting large task binary with size 1094.1 KiB\n",
      "23/11/30 14:48:01 WARN DAGScheduler: Broadcasting large task binary with size 1002.9 KiB\n",
      "23/11/30 14:48:02 WARN DAGScheduler: Broadcasting large task binary with size 1003.4 KiB\n",
      "23/11/30 14:48:02 WARN DAGScheduler: Broadcasting large task binary with size 1004.1 KiB\n",
      "23/11/30 14:48:03 WARN DAGScheduler: Broadcasting large task binary with size 1005.5 KiB\n",
      "23/11/30 14:48:03 WARN DAGScheduler: Broadcasting large task binary with size 1008.6 KiB\n",
      "23/11/30 14:48:03 WARN DAGScheduler: Broadcasting large task binary with size 1014.8 KiB\n",
      "23/11/30 14:48:04 WARN DAGScheduler: Broadcasting large task binary with size 1026.0 KiB\n",
      "23/11/30 14:48:04 WARN DAGScheduler: Broadcasting large task binary with size 1034.1 KiB\n",
      "23/11/30 14:48:05 WARN DAGScheduler: Broadcasting large task binary with size 1034.6 KiB\n",
      "23/11/30 14:48:05 WARN DAGScheduler: Broadcasting large task binary with size 1035.3 KiB\n",
      "23/11/30 14:48:05 WARN DAGScheduler: Broadcasting large task binary with size 1036.6 KiB\n",
      "23/11/30 14:48:05 WARN DAGScheduler: Broadcasting large task binary with size 1039.4 KiB\n",
      "23/11/30 14:48:06 WARN DAGScheduler: Broadcasting large task binary with size 1045.2 KiB\n",
      "23/11/30 14:48:06 WARN DAGScheduler: Broadcasting large task binary with size 1056.9 KiB\n",
      "23/11/30 14:48:06 WARN DAGScheduler: Broadcasting large task binary with size 1065.1 KiB\n",
      "23/11/30 14:48:06 WARN DAGScheduler: Broadcasting large task binary with size 1065.6 KiB\n",
      "23/11/30 14:48:07 WARN DAGScheduler: Broadcasting large task binary with size 1066.3 KiB\n",
      "23/11/30 14:48:07 WARN DAGScheduler: Broadcasting large task binary with size 1067.6 KiB\n",
      "23/11/30 14:48:07 WARN DAGScheduler: Broadcasting large task binary with size 1070.6 KiB\n",
      "23/11/30 14:48:07 WARN DAGScheduler: Broadcasting large task binary with size 1076.7 KiB\n",
      "23/11/30 14:48:08 WARN DAGScheduler: Broadcasting large task binary with size 1088.4 KiB\n",
      "23/11/30 14:48:08 WARN DAGScheduler: Broadcasting large task binary with size 1097.5 KiB\n",
      "23/11/30 14:48:09 WARN DAGScheduler: Broadcasting large task binary with size 1098.0 KiB\n",
      "23/11/30 14:48:09 WARN DAGScheduler: Broadcasting large task binary with size 1098.8 KiB\n",
      "23/11/30 14:48:09 WARN DAGScheduler: Broadcasting large task binary with size 1100.4 KiB\n",
      "23/11/30 14:48:10 WARN DAGScheduler: Broadcasting large task binary with size 1103.5 KiB\n",
      "23/11/30 14:48:10 WARN DAGScheduler: Broadcasting large task binary with size 1109.4 KiB\n",
      "23/11/30 14:48:10 WARN DAGScheduler: Broadcasting large task binary with size 1120.3 KiB\n",
      "23/11/30 14:48:11 WARN DAGScheduler: Broadcasting large task binary with size 1112.9 KiB\n",
      "23/11/30 14:49:12 WARN DAGScheduler: Broadcasting large task binary with size 1000.4 KiB\n",
      "23/11/30 14:49:12 WARN DAGScheduler: Broadcasting large task binary with size 1001.8 KiB\n",
      "23/11/30 14:49:12 WARN DAGScheduler: Broadcasting large task binary with size 1005.0 KiB\n",
      "23/11/30 14:49:12 WARN DAGScheduler: Broadcasting large task binary with size 1011.2 KiB\n",
      "23/11/30 14:49:12 WARN DAGScheduler: Broadcasting large task binary with size 1022.8 KiB\n",
      "23/11/30 14:49:13 WARN DAGScheduler: Broadcasting large task binary with size 1031.8 KiB\n",
      "23/11/30 14:49:13 WARN DAGScheduler: Broadcasting large task binary with size 1032.3 KiB\n",
      "23/11/30 14:49:13 WARN DAGScheduler: Broadcasting large task binary with size 1032.9 KiB\n",
      "23/11/30 14:49:14 WARN DAGScheduler: Broadcasting large task binary with size 1034.6 KiB\n",
      "23/11/30 14:49:14 WARN DAGScheduler: Broadcasting large task binary with size 1037.7 KiB\n",
      "23/11/30 14:49:14 WARN DAGScheduler: Broadcasting large task binary with size 1043.5 KiB\n",
      "23/11/30 14:49:14 WARN DAGScheduler: Broadcasting large task binary with size 1054.5 KiB\n",
      "23/11/30 14:49:14 WARN DAGScheduler: Broadcasting large task binary with size 1063.5 KiB\n",
      "23/11/30 14:49:15 WARN DAGScheduler: Broadcasting large task binary with size 1064.0 KiB\n",
      "23/11/30 14:49:15 WARN DAGScheduler: Broadcasting large task binary with size 1064.6 KiB\n",
      "23/11/30 14:49:15 WARN DAGScheduler: Broadcasting large task binary with size 1066.1 KiB\n",
      "23/11/30 14:49:15 WARN DAGScheduler: Broadcasting large task binary with size 1068.7 KiB\n",
      "23/11/30 14:49:15 WARN DAGScheduler: Broadcasting large task binary with size 1074.5 KiB\n",
      "23/11/30 14:49:16 WARN DAGScheduler: Broadcasting large task binary with size 1086.3 KiB\n",
      "23/11/30 14:49:16 WARN DAGScheduler: Broadcasting large task binary with size 1094.3 KiB\n",
      "23/11/30 14:49:16 WARN DAGScheduler: Broadcasting large task binary with size 1094.8 KiB\n",
      "23/11/30 14:49:16 WARN DAGScheduler: Broadcasting large task binary with size 1095.3 KiB\n",
      "23/11/30 14:49:17 WARN DAGScheduler: Broadcasting large task binary with size 1096.9 KiB\n",
      "23/11/30 14:49:17 WARN DAGScheduler: Broadcasting large task binary with size 1099.9 KiB\n",
      "23/11/30 14:49:17 WARN DAGScheduler: Broadcasting large task binary with size 1105.5 KiB\n",
      "23/11/30 14:49:17 WARN DAGScheduler: Broadcasting large task binary with size 1116.7 KiB\n",
      "23/11/30 14:49:18 WARN DAGScheduler: Broadcasting large task binary with size 1111.0 KiB\n",
      "23/11/30 14:53:59 WARN DAGScheduler: Broadcasting large task binary with size 1003.4 KiB\n",
      "23/11/30 14:53:59 WARN DAGScheduler: Broadcasting large task binary with size 1003.9 KiB\n",
      "23/11/30 14:53:59 WARN DAGScheduler: Broadcasting large task binary with size 1004.4 KiB\n",
      "23/11/30 14:54:00 WARN DAGScheduler: Broadcasting large task binary with size 1006.1 KiB\n",
      "23/11/30 14:54:00 WARN DAGScheduler: Broadcasting large task binary with size 1008.9 KiB\n",
      "23/11/30 14:54:00 WARN DAGScheduler: Broadcasting large task binary with size 1014.7 KiB\n",
      "23/11/30 14:54:00 WARN DAGScheduler: Broadcasting large task binary with size 1026.4 KiB\n",
      "23/11/30 14:54:01 WARN DAGScheduler: Broadcasting large task binary with size 1034.8 KiB\n",
      "23/11/30 14:54:01 WARN DAGScheduler: Broadcasting large task binary with size 1035.3 KiB\n",
      "23/11/30 14:54:01 WARN DAGScheduler: Broadcasting large task binary with size 1035.9 KiB\n",
      "23/11/30 14:54:01 WARN DAGScheduler: Broadcasting large task binary with size 1037.4 KiB\n",
      "23/11/30 14:54:02 WARN DAGScheduler: Broadcasting large task binary with size 1040.1 KiB\n",
      "23/11/30 14:54:02 WARN DAGScheduler: Broadcasting large task binary with size 1046.0 KiB\n",
      "23/11/30 14:54:02 WARN DAGScheduler: Broadcasting large task binary with size 1057.3 KiB\n",
      "23/11/30 14:54:02 WARN DAGScheduler: Broadcasting large task binary with size 1066.5 KiB\n",
      "23/11/30 14:54:03 WARN DAGScheduler: Broadcasting large task binary with size 1067.0 KiB\n",
      "23/11/30 14:54:03 WARN DAGScheduler: Broadcasting large task binary with size 1067.7 KiB\n",
      "23/11/30 14:54:03 WARN DAGScheduler: Broadcasting large task binary with size 1069.3 KiB\n",
      "23/11/30 14:54:04 WARN DAGScheduler: Broadcasting large task binary with size 1072.2 KiB\n",
      "23/11/30 14:54:04 WARN DAGScheduler: Broadcasting large task binary with size 1077.4 KiB\n",
      "23/11/30 14:54:04 WARN DAGScheduler: Broadcasting large task binary with size 1089.1 KiB\n",
      "23/11/30 14:54:05 WARN DAGScheduler: Broadcasting large task binary with size 1097.8 KiB\n",
      "23/11/30 14:54:05 WARN DAGScheduler: Broadcasting large task binary with size 1098.3 KiB\n",
      "23/11/30 14:54:06 WARN DAGScheduler: Broadcasting large task binary with size 1098.9 KiB\n",
      "23/11/30 14:54:06 WARN DAGScheduler: Broadcasting large task binary with size 1100.4 KiB\n",
      "23/11/30 14:54:06 WARN DAGScheduler: Broadcasting large task binary with size 1103.4 KiB\n",
      "23/11/30 14:54:06 WARN DAGScheduler: Broadcasting large task binary with size 1108.8 KiB\n",
      "23/11/30 14:54:07 WARN DAGScheduler: Broadcasting large task binary with size 1120.5 KiB\n",
      "23/11/30 14:54:07 WARN DAGScheduler: Broadcasting large task binary with size 1114.8 KiB\n",
      "23/11/30 14:54:50 WARN DAGScheduler: Broadcasting large task binary with size 1000.7 KiB\n",
      "23/11/30 14:54:50 WARN DAGScheduler: Broadcasting large task binary with size 1001.2 KiB\n",
      "23/11/30 14:54:50 WARN DAGScheduler: Broadcasting large task binary with size 1001.9 KiB\n",
      "23/11/30 14:54:50 WARN DAGScheduler: Broadcasting large task binary with size 1003.5 KiB\n",
      "23/11/30 14:54:51 WARN DAGScheduler: Broadcasting large task binary with size 1006.5 KiB\n",
      "23/11/30 14:54:51 WARN DAGScheduler: Broadcasting large task binary with size 1012.3 KiB\n",
      "23/11/30 14:54:51 WARN DAGScheduler: Broadcasting large task binary with size 1023.0 KiB\n",
      "23/11/30 14:54:51 WARN DAGScheduler: Broadcasting large task binary with size 1030.9 KiB\n",
      "23/11/30 14:54:52 WARN DAGScheduler: Broadcasting large task binary with size 1031.4 KiB\n",
      "23/11/30 14:54:52 WARN DAGScheduler: Broadcasting large task binary with size 1031.9 KiB\n",
      "23/11/30 14:54:52 WARN DAGScheduler: Broadcasting large task binary with size 1033.4 KiB\n",
      "23/11/30 14:54:52 WARN DAGScheduler: Broadcasting large task binary with size 1036.3 KiB\n",
      "23/11/30 14:54:52 WARN DAGScheduler: Broadcasting large task binary with size 1042.3 KiB\n",
      "23/11/30 14:54:52 WARN DAGScheduler: Broadcasting large task binary with size 1053.3 KiB\n",
      "23/11/30 14:54:53 WARN DAGScheduler: Broadcasting large task binary with size 1061.8 KiB\n",
      "23/11/30 14:54:53 WARN DAGScheduler: Broadcasting large task binary with size 1062.3 KiB\n",
      "23/11/30 14:54:53 WARN DAGScheduler: Broadcasting large task binary with size 1062.9 KiB\n",
      "23/11/30 14:54:53 WARN DAGScheduler: Broadcasting large task binary with size 1064.5 KiB\n",
      "23/11/30 14:54:53 WARN DAGScheduler: Broadcasting large task binary with size 1067.4 KiB\n",
      "23/11/30 14:54:54 WARN DAGScheduler: Broadcasting large task binary with size 1073.3 KiB\n",
      "23/11/30 14:54:54 WARN DAGScheduler: Broadcasting large task binary with size 1084.1 KiB\n",
      "23/11/30 14:54:54 WARN DAGScheduler: Broadcasting large task binary with size 1090.8 KiB\n",
      "23/11/30 14:54:55 WARN DAGScheduler: Broadcasting large task binary with size 1091.3 KiB\n",
      "23/11/30 14:54:55 WARN DAGScheduler: Broadcasting large task binary with size 1091.9 KiB\n",
      "23/11/30 14:54:55 WARN DAGScheduler: Broadcasting large task binary with size 1093.4 KiB\n",
      "23/11/30 14:54:55 WARN DAGScheduler: Broadcasting large task binary with size 1096.2 KiB\n",
      "23/11/30 14:54:56 WARN DAGScheduler: Broadcasting large task binary with size 1101.9 KiB\n",
      "23/11/30 14:54:56 WARN DAGScheduler: Broadcasting large task binary with size 1113.3 KiB\n",
      "23/11/30 14:54:57 WARN DAGScheduler: Broadcasting large task binary with size 1105.5 KiB\n",
      "                                                                                \r"
     ]
    },
    {
     "name": "stdout",
     "output_type": "stream",
     "text": [
      "CPU times: user 3.82 s, sys: 791 ms, total: 4.61 s\n",
      "Wall time: 24min 1s\n"
     ]
    }
   ],
   "source": [
    "%%time\n",
    "cv_model = crossval.fit(trainingData)"
   ]
  },
  {
   "cell_type": "code",
   "execution_count": 14,
   "id": "625b54ee-f55e-4ed5-8a22-63c5ed600b49",
   "metadata": {
    "tags": []
   },
   "outputs": [
    {
     "name": "stderr",
     "output_type": "stream",
     "text": [
      "                                                                                \r"
     ]
    },
    {
     "name": "stdout",
     "output_type": "stream",
     "text": [
      "Area under ROC on test data = 0.732024668159765\n",
      "Best hyperparameters:\n",
      "Max Depth: 5\n",
      "Max Iterations: 30\n",
      "stepSize: 0.2\n"
     ]
    },
    {
     "name": "stderr",
     "output_type": "stream",
     "text": [
      "                                                                                \r"
     ]
    }
   ],
   "source": [
    "testData = pipeline_model.transform(testData)\n",
    "predictions = cv_model.transform(testData)\n",
    "\n",
    "area_under_roc = evaluator.evaluate(predictions)\n",
    "print(f\"Area under ROC on test data = {area_under_roc}\")\n",
    "\n",
    "best_model = cv_model.bestModel\n",
    "\n",
    "print(\"Best hyperparameters:\")\n",
    "print(f\"Max Depth: {best_model.getMaxDepth()}\")\n",
    "print(f\"Max Iterations: {best_model.getMaxIter()}\")\n",
    "print(f\"stepSize: {best_model.getStepSize()}\")"
   ]
  },
  {
   "cell_type": "markdown",
   "id": "e8eff250-abcd-45f2-af43-62eb913764e6",
   "metadata": {},
   "source": [
    "## Feature Importance"
   ]
  },
  {
   "cell_type": "code",
   "execution_count": 18,
   "id": "8781a955-95d1-4145-a634-fc9d9ef15b0f",
   "metadata": {
    "tags": []
   },
   "outputs": [
    {
     "name": "stdout",
     "output_type": "stream",
     "text": [
      "Numerical Feature Importance Scores:\n",
      "time_interval: 0.2231500236139206\n",
      "goal: 0.1969243487678999\n",
      "length_of_title: 0.08286304217342445\n",
      "\n",
      "Categorical Feature Importance Scores:\n",
      "year: 0.23395633963753695\n",
      "main_category: 0.2231500236139206\n",
      "day_of_week: 0.1173976361071017\n",
      "currency: 0.08286304217342445\n",
      "month: 0.05540096747019538\n",
      "continent: 0.05384942252759639\n",
      "use_of_?!: 0.029509205846789937\n"
     ]
    }
   ],
   "source": [
    "#best_model = gbt_model\n",
    "#Collect feature importance scores\n",
    "feature_importance = best_model.featureImportances\n",
    "feature_importance_scores = feature_importance.toArray().tolist()\n",
    "\n",
    "#Rename the numerical columns\n",
    "original_numerical_features = [\"goal\", \"time_interval\", \"length_of_title\"]\n",
    "original_numerical_indices = [num_assembler.getInputCols().index(feature) for feature in original_numerical_features]\n",
    "\n",
    "#Mapping original numerical feature names to importance scores\n",
    "original_numerical_importance_dict = dict(zip(original_numerical_features, [feature_importance_scores[i] for i in original_numerical_indices]))\n",
    "\n",
    "\n",
    "#Rename the categorical columns (e.g. year_index -> year)\n",
    "original_categorical_features = [\"main_category\", \"currency\", \"year\", \"month\", \"day_of_week\", \"continent\", \"use_of_?!\"]\n",
    "original_categorical_indices = [assembler_all.getInputCols().index(feature + \"_index\") for feature in original_categorical_features]\n",
    "\n",
    "#Mmapping original categorical feature names to importance scores\n",
    "original_categorical_importance_dict = dict(zip(original_categorical_features, [feature_importance_scores[i] for i in original_categorical_indices]))\n",
    "\n",
    "#Print numerical feature importance scores\n",
    "print(\"Numerical Feature Importance Scores:\")\n",
    "for feature, importance in sorted(original_numerical_importance_dict.items(), key=lambda x: x[1], reverse=True):\n",
    "    print(f\"{feature}: {importance}\")\n",
    "\n",
    "#Print categorical feature importance scores\n",
    "print(\"\\nCategorical Feature Importance Scores:\")\n",
    "for feature, importance in sorted(original_categorical_importance_dict.items(), key=lambda x: x[1], reverse=True):\n",
    "    print(f\"{feature}: {importance}\")"
   ]
  },
  {
   "cell_type": "code",
   "execution_count": 21,
   "id": "ccd6bf11-4168-49a7-83a7-31bfecad02e7",
   "metadata": {
    "tags": []
   },
   "outputs": [
    {
     "data": {
      "image/png": "[encoded data removed]",
      "text/plain": [
       "<Figure size 700x400 with 1 Axes>"
      ]
     },
     "metadata": {},
     "output_type": "display_data"
    }
   ],
   "source": [
    "import matplotlib.pyplot as plt\n",
    "\n",
    "#Combine numerical and categorical importance\n",
    "all_importance_dict = {**original_numerical_importance_dict, **original_categorical_importance_dict}\n",
    "\n",
    "#Sort features by importance\n",
    "sorted_features = sorted(all_importance_dict.items(), key=lambda x: x[1], reverse=True)\n",
    "\n",
    "#Extract feature names and importance scores for plotting\n",
    "features, importance_scores = zip(*sorted_features)\n",
    "\n",
    "plt.figure(figsize=(7, 4))\n",
    "plt.barh(range(len(features)), importance_scores, align='center', color='#8cb847')\n",
    "plt.yticks(range(len(features)), features, fontsize=12)\n",
    "plt.xlabel('Feature Importance', fontsize=13)\n",
    "plt.title('GBT Model Feature Importance', fontsize=14)\n",
    "plt.show()"
   ]
  },
  {
   "cell_type": "markdown",
   "id": "406dd00e-9c98-4cc2-b348-548160eb4abd",
   "metadata": {},
   "source": [
    "### Removing Currency and adding the sub-category"
   ]
  },
  {
   "cell_type": "code",
   "execution_count": 22,
   "id": "0b06ef89-f490-4f10-a5f1-9c7745b52a0a",
   "metadata": {
    "tags": []
   },
   "outputs": [],
   "source": [
    "categorical_cols = [\"category\", \"main_category\", \"year\", \"month\", \"day_of_week\", \"continent\", \"use_of_?!\"]\n",
    "numerical_cols = [\"goal\", \"time_interval\", \"length_of_title\"]"
   ]
  },
  {
   "cell_type": "markdown",
   "id": "424ea214-7701-40fe-b7e6-3426dddc5737",
   "metadata": {},
   "source": [
    "#### Pipeline"
   ]
  },
  {
   "cell_type": "code",
   "execution_count": 23,
   "id": "32b365ee-faec-4866-b108-859ea83eef9e",
   "metadata": {
    "tags": []
   },
   "outputs": [],
   "source": [
    "#Index categorical columns\n",
    "indexers = [StringIndexer(inputCol=col, outputCol=col+\"_index\") for col in categorical_cols]\n",
    "\n",
    "#Index target label\n",
    "label_indexer = StringIndexer(inputCol=\"state\", outputCol=\"state_index\")\n",
    "\n",
    "#Scaling numerical columns\n",
    "num_assembler = VectorAssembler(inputCols=numerical_cols, outputCol=\"features\")\n",
    "scaler = RobustScaler(inputCol=\"features\", outputCol=\"scaled_features\")\n",
    "\n",
    "#Assembling all features\n",
    "assembler_all = VectorAssembler(inputCols=[\"scaled_features\"] + [col+\"_index\" for col in categorical_cols], outputCol=\"final_features\")"
   ]
  },
  {
   "cell_type": "code",
   "execution_count": 24,
   "id": "b0c9dc8f-bdf9-44cd-9e14-750a245c9a8b",
   "metadata": {
    "collapsed": true,
    "jupyter": {
     "outputs_hidden": true
    },
    "tags": []
   },
   "outputs": [
    {
     "name": "stderr",
     "output_type": "stream",
     "text": [
      "                                                                                \r"
     ]
    },
    {
     "ename": "IllegalArgumentException",
     "evalue": "requirement failed: Output column main_category_index already exists.",
     "output_type": "error",
     "traceback": [
      "\u001b[0;31m---------------------------------------------------------------------------\u001b[0m",
      "\u001b[0;31mIllegalArgumentException\u001b[0m                  Traceback (most recent call last)",
      "Cell \u001b[0;32mIn[24], line 2\u001b[0m\n\u001b[1;32m      1\u001b[0m pipeline \u001b[38;5;241m=\u001b[39m Pipeline(stages\u001b[38;5;241m=\u001b[39mindexers \u001b[38;5;241m+\u001b[39m [label_indexer, num_assembler, scaler, assembler_all])\n\u001b[0;32m----> 2\u001b[0m pipeline_model \u001b[38;5;241m=\u001b[39m \u001b[43mpipeline\u001b[49m\u001b[38;5;241;43m.\u001b[39;49m\u001b[43mfit\u001b[49m\u001b[43m(\u001b[49m\u001b[43mtrainingData\u001b[49m\u001b[43m)\u001b[49m\n\u001b[1;32m      3\u001b[0m trainingData \u001b[38;5;241m=\u001b[39m pipeline_model\u001b[38;5;241m.\u001b[39mtransform(trainingData)\n",
      "File \u001b[0;32m/opt/conda/lib/python3.10/site-packages/pyspark/ml/base.py:205\u001b[0m, in \u001b[0;36mEstimator.fit\u001b[0;34m(self, dataset, params)\u001b[0m\n\u001b[1;32m    203\u001b[0m         \u001b[38;5;28;01mreturn\u001b[39;00m \u001b[38;5;28mself\u001b[39m\u001b[38;5;241m.\u001b[39mcopy(params)\u001b[38;5;241m.\u001b[39m_fit(dataset)\n\u001b[1;32m    204\u001b[0m     \u001b[38;5;28;01melse\u001b[39;00m:\n\u001b[0;32m--> 205\u001b[0m         \u001b[38;5;28;01mreturn\u001b[39;00m \u001b[38;5;28;43mself\u001b[39;49m\u001b[38;5;241;43m.\u001b[39;49m\u001b[43m_fit\u001b[49m\u001b[43m(\u001b[49m\u001b[43mdataset\u001b[49m\u001b[43m)\u001b[49m\n\u001b[1;32m    206\u001b[0m \u001b[38;5;28;01melse\u001b[39;00m:\n\u001b[1;32m    207\u001b[0m     \u001b[38;5;28;01mraise\u001b[39;00m \u001b[38;5;167;01mTypeError\u001b[39;00m(\n\u001b[1;32m    208\u001b[0m         \u001b[38;5;124m\"\u001b[39m\u001b[38;5;124mParams must be either a param map or a list/tuple of param maps, \u001b[39m\u001b[38;5;124m\"\u001b[39m\n\u001b[1;32m    209\u001b[0m         \u001b[38;5;124m\"\u001b[39m\u001b[38;5;124mbut got \u001b[39m\u001b[38;5;132;01m%s\u001b[39;00m\u001b[38;5;124m.\u001b[39m\u001b[38;5;124m\"\u001b[39m \u001b[38;5;241m%\u001b[39m \u001b[38;5;28mtype\u001b[39m(params)\n\u001b[1;32m    210\u001b[0m     )\n",
      "File \u001b[0;32m/opt/conda/lib/python3.10/site-packages/pyspark/ml/pipeline.py:134\u001b[0m, in \u001b[0;36mPipeline._fit\u001b[0;34m(self, dataset)\u001b[0m\n\u001b[1;32m    132\u001b[0m     dataset \u001b[38;5;241m=\u001b[39m stage\u001b[38;5;241m.\u001b[39mtransform(dataset)\n\u001b[1;32m    133\u001b[0m \u001b[38;5;28;01melse\u001b[39;00m:  \u001b[38;5;66;03m# must be an Estimator\u001b[39;00m\n\u001b[0;32m--> 134\u001b[0m     model \u001b[38;5;241m=\u001b[39m \u001b[43mstage\u001b[49m\u001b[38;5;241;43m.\u001b[39;49m\u001b[43mfit\u001b[49m\u001b[43m(\u001b[49m\u001b[43mdataset\u001b[49m\u001b[43m)\u001b[49m\n\u001b[1;32m    135\u001b[0m     transformers\u001b[38;5;241m.\u001b[39mappend(model)\n\u001b[1;32m    136\u001b[0m     \u001b[38;5;28;01mif\u001b[39;00m i \u001b[38;5;241m<\u001b[39m indexOfLastEstimator:\n",
      "File \u001b[0;32m/opt/conda/lib/python3.10/site-packages/pyspark/ml/base.py:205\u001b[0m, in \u001b[0;36mEstimator.fit\u001b[0;34m(self, dataset, params)\u001b[0m\n\u001b[1;32m    203\u001b[0m         \u001b[38;5;28;01mreturn\u001b[39;00m \u001b[38;5;28mself\u001b[39m\u001b[38;5;241m.\u001b[39mcopy(params)\u001b[38;5;241m.\u001b[39m_fit(dataset)\n\u001b[1;32m    204\u001b[0m     \u001b[38;5;28;01melse\u001b[39;00m:\n\u001b[0;32m--> 205\u001b[0m         \u001b[38;5;28;01mreturn\u001b[39;00m \u001b[38;5;28;43mself\u001b[39;49m\u001b[38;5;241;43m.\u001b[39;49m\u001b[43m_fit\u001b[49m\u001b[43m(\u001b[49m\u001b[43mdataset\u001b[49m\u001b[43m)\u001b[49m\n\u001b[1;32m    206\u001b[0m \u001b[38;5;28;01melse\u001b[39;00m:\n\u001b[1;32m    207\u001b[0m     \u001b[38;5;28;01mraise\u001b[39;00m \u001b[38;5;167;01mTypeError\u001b[39;00m(\n\u001b[1;32m    208\u001b[0m         \u001b[38;5;124m\"\u001b[39m\u001b[38;5;124mParams must be either a param map or a list/tuple of param maps, \u001b[39m\u001b[38;5;124m\"\u001b[39m\n\u001b[1;32m    209\u001b[0m         \u001b[38;5;124m\"\u001b[39m\u001b[38;5;124mbut got \u001b[39m\u001b[38;5;132;01m%s\u001b[39;00m\u001b[38;5;124m.\u001b[39m\u001b[38;5;124m\"\u001b[39m \u001b[38;5;241m%\u001b[39m \u001b[38;5;28mtype\u001b[39m(params)\n\u001b[1;32m    210\u001b[0m     )\n",
      "File \u001b[0;32m/opt/conda/lib/python3.10/site-packages/pyspark/ml/wrapper.py:381\u001b[0m, in \u001b[0;36mJavaEstimator._fit\u001b[0;34m(self, dataset)\u001b[0m\n\u001b[1;32m    380\u001b[0m \u001b[38;5;28;01mdef\u001b[39;00m \u001b[38;5;21m_fit\u001b[39m(\u001b[38;5;28mself\u001b[39m, dataset: DataFrame) \u001b[38;5;241m-\u001b[39m\u001b[38;5;241m>\u001b[39m JM:\n\u001b[0;32m--> 381\u001b[0m     java_model \u001b[38;5;241m=\u001b[39m \u001b[38;5;28;43mself\u001b[39;49m\u001b[38;5;241;43m.\u001b[39;49m\u001b[43m_fit_java\u001b[49m\u001b[43m(\u001b[49m\u001b[43mdataset\u001b[49m\u001b[43m)\u001b[49m\n\u001b[1;32m    382\u001b[0m     model \u001b[38;5;241m=\u001b[39m \u001b[38;5;28mself\u001b[39m\u001b[38;5;241m.\u001b[39m_create_model(java_model)\n\u001b[1;32m    383\u001b[0m     \u001b[38;5;28;01mreturn\u001b[39;00m \u001b[38;5;28mself\u001b[39m\u001b[38;5;241m.\u001b[39m_copyValues(model)\n",
      "File \u001b[0;32m/opt/conda/lib/python3.10/site-packages/pyspark/ml/wrapper.py:378\u001b[0m, in \u001b[0;36mJavaEstimator._fit_java\u001b[0;34m(self, dataset)\u001b[0m\n\u001b[1;32m    375\u001b[0m \u001b[38;5;28;01massert\u001b[39;00m \u001b[38;5;28mself\u001b[39m\u001b[38;5;241m.\u001b[39m_java_obj \u001b[38;5;129;01mis\u001b[39;00m \u001b[38;5;129;01mnot\u001b[39;00m \u001b[38;5;28;01mNone\u001b[39;00m\n\u001b[1;32m    377\u001b[0m \u001b[38;5;28mself\u001b[39m\u001b[38;5;241m.\u001b[39m_transfer_params_to_java()\n\u001b[0;32m--> 378\u001b[0m \u001b[38;5;28;01mreturn\u001b[39;00m \u001b[38;5;28;43mself\u001b[39;49m\u001b[38;5;241;43m.\u001b[39;49m\u001b[43m_java_obj\u001b[49m\u001b[38;5;241;43m.\u001b[39;49m\u001b[43mfit\u001b[49m\u001b[43m(\u001b[49m\u001b[43mdataset\u001b[49m\u001b[38;5;241;43m.\u001b[39;49m\u001b[43m_jdf\u001b[49m\u001b[43m)\u001b[49m\n",
      "File \u001b[0;32m/opt/conda/lib/python3.10/site-packages/py4j/java_gateway.py:1322\u001b[0m, in \u001b[0;36mJavaMember.__call__\u001b[0;34m(self, *args)\u001b[0m\n\u001b[1;32m   1316\u001b[0m command \u001b[38;5;241m=\u001b[39m proto\u001b[38;5;241m.\u001b[39mCALL_COMMAND_NAME \u001b[38;5;241m+\u001b[39m\\\n\u001b[1;32m   1317\u001b[0m     \u001b[38;5;28mself\u001b[39m\u001b[38;5;241m.\u001b[39mcommand_header \u001b[38;5;241m+\u001b[39m\\\n\u001b[1;32m   1318\u001b[0m     args_command \u001b[38;5;241m+\u001b[39m\\\n\u001b[1;32m   1319\u001b[0m     proto\u001b[38;5;241m.\u001b[39mEND_COMMAND_PART\n\u001b[1;32m   1321\u001b[0m answer \u001b[38;5;241m=\u001b[39m \u001b[38;5;28mself\u001b[39m\u001b[38;5;241m.\u001b[39mgateway_client\u001b[38;5;241m.\u001b[39msend_command(command)\n\u001b[0;32m-> 1322\u001b[0m return_value \u001b[38;5;241m=\u001b[39m \u001b[43mget_return_value\u001b[49m\u001b[43m(\u001b[49m\n\u001b[1;32m   1323\u001b[0m \u001b[43m    \u001b[49m\u001b[43manswer\u001b[49m\u001b[43m,\u001b[49m\u001b[43m \u001b[49m\u001b[38;5;28;43mself\u001b[39;49m\u001b[38;5;241;43m.\u001b[39;49m\u001b[43mgateway_client\u001b[49m\u001b[43m,\u001b[49m\u001b[43m \u001b[49m\u001b[38;5;28;43mself\u001b[39;49m\u001b[38;5;241;43m.\u001b[39;49m\u001b[43mtarget_id\u001b[49m\u001b[43m,\u001b[49m\u001b[43m \u001b[49m\u001b[38;5;28;43mself\u001b[39;49m\u001b[38;5;241;43m.\u001b[39;49m\u001b[43mname\u001b[49m\u001b[43m)\u001b[49m\n\u001b[1;32m   1325\u001b[0m \u001b[38;5;28;01mfor\u001b[39;00m temp_arg \u001b[38;5;129;01min\u001b[39;00m temp_args:\n\u001b[1;32m   1326\u001b[0m     \u001b[38;5;28;01mif\u001b[39;00m \u001b[38;5;28mhasattr\u001b[39m(temp_arg, \u001b[38;5;124m\"\u001b[39m\u001b[38;5;124m_detach\u001b[39m\u001b[38;5;124m\"\u001b[39m):\n",
      "File \u001b[0;32m/opt/conda/lib/python3.10/site-packages/pyspark/errors/exceptions/captured.py:185\u001b[0m, in \u001b[0;36mcapture_sql_exception.<locals>.deco\u001b[0;34m(*a, **kw)\u001b[0m\n\u001b[1;32m    181\u001b[0m converted \u001b[38;5;241m=\u001b[39m convert_exception(e\u001b[38;5;241m.\u001b[39mjava_exception)\n\u001b[1;32m    182\u001b[0m \u001b[38;5;28;01mif\u001b[39;00m \u001b[38;5;129;01mnot\u001b[39;00m \u001b[38;5;28misinstance\u001b[39m(converted, UnknownException):\n\u001b[1;32m    183\u001b[0m     \u001b[38;5;66;03m# Hide where the exception came from that shows a non-Pythonic\u001b[39;00m\n\u001b[1;32m    184\u001b[0m     \u001b[38;5;66;03m# JVM exception message.\u001b[39;00m\n\u001b[0;32m--> 185\u001b[0m     \u001b[38;5;28;01mraise\u001b[39;00m converted \u001b[38;5;28;01mfrom\u001b[39;00m \u001b[38;5;28;01mNone\u001b[39;00m\n\u001b[1;32m    186\u001b[0m \u001b[38;5;28;01melse\u001b[39;00m:\n\u001b[1;32m    187\u001b[0m     \u001b[38;5;28;01mraise\u001b[39;00m\n",
      "\u001b[0;31mIllegalArgumentException\u001b[0m: requirement failed: Output column main_category_index already exists."
     ]
    }
   ],
   "source": [
    "pipeline = Pipeline(stages=indexers + [label_indexer, num_assembler, scaler, assembler_all])\n",
    "pipeline_model = pipeline.fit(trainingData)\n",
    "trainingData = pipeline_model.transform(trainingData)"
   ]
  },
  {
   "cell_type": "markdown",
   "id": "6443950a-3717-4117-b87d-530c50c4d1dc",
   "metadata": {},
   "source": [
    "#### GBT Model"
   ]
  },
  {
   "cell_type": "code",
   "execution_count": 25,
   "id": "9f079ce4-0fba-4226-8806-1099d75ec04b",
   "metadata": {
    "tags": []
   },
   "outputs": [
    {
     "name": "stderr",
     "output_type": "stream",
     "text": [
      "                                                                                \r"
     ]
    }
   ],
   "source": [
    "gbt = GBTClassifier(featuresCol=\"final_features\", labelCol=\"state_index\", \\\n",
    "                    maxDepth=5, \\\n",
    "                    maxIter=30, \\\n",
    "                    stepSize=0.2, \\\n",
    "                    maxBins=160)\n",
    "\n",
    "gbt_model = gbt.fit(trainingData)"
   ]
  },
  {
   "cell_type": "code",
   "execution_count": 26,
   "id": "a152017e-95b4-4efe-9ea4-5a7d2fef519e",
   "metadata": {
    "tags": []
   },
   "outputs": [],
   "source": [
    "evaluator = BinaryClassificationEvaluator(labelCol=\"state_index\", metricName=\"areaUnderROC\")\n",
    "evaluator_f1 = MulticlassClassificationEvaluator(labelCol=\"state_index\", metricName=\"f1\")"
   ]
  },
  {
   "cell_type": "code",
   "execution_count": 27,
   "id": "869bc475-d37b-48e2-9972-c1ec6b21eb93",
   "metadata": {
    "collapsed": true,
    "jupyter": {
     "outputs_hidden": true
    },
    "tags": []
   },
   "outputs": [
    {
     "ename": "IllegalArgumentException",
     "evalue": "requirement failed: Output column main_category_index already exists.",
     "output_type": "error",
     "traceback": [
      "\u001b[0;31m---------------------------------------------------------------------------\u001b[0m",
      "\u001b[0;31mIllegalArgumentException\u001b[0m                  Traceback (most recent call last)",
      "Cell \u001b[0;32mIn[27], line 1\u001b[0m\n\u001b[0;32m----> 1\u001b[0m testData \u001b[38;5;241m=\u001b[39m \u001b[43mpipeline_model\u001b[49m\u001b[38;5;241;43m.\u001b[39;49m\u001b[43mtransform\u001b[49m\u001b[43m(\u001b[49m\u001b[43mtestData\u001b[49m\u001b[43m)\u001b[49m\n\u001b[1;32m      2\u001b[0m predictions \u001b[38;5;241m=\u001b[39m gbt_model\u001b[38;5;241m.\u001b[39mtransform(testData)\n\u001b[1;32m      4\u001b[0m f1 \u001b[38;5;241m=\u001b[39m evaluator_f1\u001b[38;5;241m.\u001b[39mevaluate(predictions)\n",
      "File \u001b[0;32m/opt/conda/lib/python3.10/site-packages/pyspark/ml/base.py:262\u001b[0m, in \u001b[0;36mTransformer.transform\u001b[0;34m(self, dataset, params)\u001b[0m\n\u001b[1;32m    260\u001b[0m         \u001b[38;5;28;01mreturn\u001b[39;00m \u001b[38;5;28mself\u001b[39m\u001b[38;5;241m.\u001b[39mcopy(params)\u001b[38;5;241m.\u001b[39m_transform(dataset)\n\u001b[1;32m    261\u001b[0m     \u001b[38;5;28;01melse\u001b[39;00m:\n\u001b[0;32m--> 262\u001b[0m         \u001b[38;5;28;01mreturn\u001b[39;00m \u001b[38;5;28;43mself\u001b[39;49m\u001b[38;5;241;43m.\u001b[39;49m\u001b[43m_transform\u001b[49m\u001b[43m(\u001b[49m\u001b[43mdataset\u001b[49m\u001b[43m)\u001b[49m\n\u001b[1;32m    263\u001b[0m \u001b[38;5;28;01melse\u001b[39;00m:\n\u001b[1;32m    264\u001b[0m     \u001b[38;5;28;01mraise\u001b[39;00m \u001b[38;5;167;01mTypeError\u001b[39;00m(\u001b[38;5;124m\"\u001b[39m\u001b[38;5;124mParams must be a param map but got \u001b[39m\u001b[38;5;132;01m%s\u001b[39;00m\u001b[38;5;124m.\u001b[39m\u001b[38;5;124m\"\u001b[39m \u001b[38;5;241m%\u001b[39m \u001b[38;5;28mtype\u001b[39m(params))\n",
      "File \u001b[0;32m/opt/conda/lib/python3.10/site-packages/pyspark/ml/pipeline.py:304\u001b[0m, in \u001b[0;36mPipelineModel._transform\u001b[0;34m(self, dataset)\u001b[0m\n\u001b[1;32m    302\u001b[0m \u001b[38;5;28;01mdef\u001b[39;00m \u001b[38;5;21m_transform\u001b[39m(\u001b[38;5;28mself\u001b[39m, dataset: DataFrame) \u001b[38;5;241m-\u001b[39m\u001b[38;5;241m>\u001b[39m DataFrame:\n\u001b[1;32m    303\u001b[0m     \u001b[38;5;28;01mfor\u001b[39;00m t \u001b[38;5;129;01min\u001b[39;00m \u001b[38;5;28mself\u001b[39m\u001b[38;5;241m.\u001b[39mstages:\n\u001b[0;32m--> 304\u001b[0m         dataset \u001b[38;5;241m=\u001b[39m \u001b[43mt\u001b[49m\u001b[38;5;241;43m.\u001b[39;49m\u001b[43mtransform\u001b[49m\u001b[43m(\u001b[49m\u001b[43mdataset\u001b[49m\u001b[43m)\u001b[49m\n\u001b[1;32m    305\u001b[0m     \u001b[38;5;28;01mreturn\u001b[39;00m dataset\n",
      "File \u001b[0;32m/opt/conda/lib/python3.10/site-packages/pyspark/ml/base.py:262\u001b[0m, in \u001b[0;36mTransformer.transform\u001b[0;34m(self, dataset, params)\u001b[0m\n\u001b[1;32m    260\u001b[0m         \u001b[38;5;28;01mreturn\u001b[39;00m \u001b[38;5;28mself\u001b[39m\u001b[38;5;241m.\u001b[39mcopy(params)\u001b[38;5;241m.\u001b[39m_transform(dataset)\n\u001b[1;32m    261\u001b[0m     \u001b[38;5;28;01melse\u001b[39;00m:\n\u001b[0;32m--> 262\u001b[0m         \u001b[38;5;28;01mreturn\u001b[39;00m \u001b[38;5;28;43mself\u001b[39;49m\u001b[38;5;241;43m.\u001b[39;49m\u001b[43m_transform\u001b[49m\u001b[43m(\u001b[49m\u001b[43mdataset\u001b[49m\u001b[43m)\u001b[49m\n\u001b[1;32m    263\u001b[0m \u001b[38;5;28;01melse\u001b[39;00m:\n\u001b[1;32m    264\u001b[0m     \u001b[38;5;28;01mraise\u001b[39;00m \u001b[38;5;167;01mTypeError\u001b[39;00m(\u001b[38;5;124m\"\u001b[39m\u001b[38;5;124mParams must be a param map but got \u001b[39m\u001b[38;5;132;01m%s\u001b[39;00m\u001b[38;5;124m.\u001b[39m\u001b[38;5;124m\"\u001b[39m \u001b[38;5;241m%\u001b[39m \u001b[38;5;28mtype\u001b[39m(params))\n",
      "File \u001b[0;32m/opt/conda/lib/python3.10/site-packages/pyspark/ml/wrapper.py:398\u001b[0m, in \u001b[0;36mJavaTransformer._transform\u001b[0;34m(self, dataset)\u001b[0m\n\u001b[1;32m    395\u001b[0m \u001b[38;5;28;01massert\u001b[39;00m \u001b[38;5;28mself\u001b[39m\u001b[38;5;241m.\u001b[39m_java_obj \u001b[38;5;129;01mis\u001b[39;00m \u001b[38;5;129;01mnot\u001b[39;00m \u001b[38;5;28;01mNone\u001b[39;00m\n\u001b[1;32m    397\u001b[0m \u001b[38;5;28mself\u001b[39m\u001b[38;5;241m.\u001b[39m_transfer_params_to_java()\n\u001b[0;32m--> 398\u001b[0m \u001b[38;5;28;01mreturn\u001b[39;00m DataFrame(\u001b[38;5;28;43mself\u001b[39;49m\u001b[38;5;241;43m.\u001b[39;49m\u001b[43m_java_obj\u001b[49m\u001b[38;5;241;43m.\u001b[39;49m\u001b[43mtransform\u001b[49m\u001b[43m(\u001b[49m\u001b[43mdataset\u001b[49m\u001b[38;5;241;43m.\u001b[39;49m\u001b[43m_jdf\u001b[49m\u001b[43m)\u001b[49m, dataset\u001b[38;5;241m.\u001b[39msparkSession)\n",
      "File \u001b[0;32m/opt/conda/lib/python3.10/site-packages/py4j/java_gateway.py:1322\u001b[0m, in \u001b[0;36mJavaMember.__call__\u001b[0;34m(self, *args)\u001b[0m\n\u001b[1;32m   1316\u001b[0m command \u001b[38;5;241m=\u001b[39m proto\u001b[38;5;241m.\u001b[39mCALL_COMMAND_NAME \u001b[38;5;241m+\u001b[39m\\\n\u001b[1;32m   1317\u001b[0m     \u001b[38;5;28mself\u001b[39m\u001b[38;5;241m.\u001b[39mcommand_header \u001b[38;5;241m+\u001b[39m\\\n\u001b[1;32m   1318\u001b[0m     args_command \u001b[38;5;241m+\u001b[39m\\\n\u001b[1;32m   1319\u001b[0m     proto\u001b[38;5;241m.\u001b[39mEND_COMMAND_PART\n\u001b[1;32m   1321\u001b[0m answer \u001b[38;5;241m=\u001b[39m \u001b[38;5;28mself\u001b[39m\u001b[38;5;241m.\u001b[39mgateway_client\u001b[38;5;241m.\u001b[39msend_command(command)\n\u001b[0;32m-> 1322\u001b[0m return_value \u001b[38;5;241m=\u001b[39m \u001b[43mget_return_value\u001b[49m\u001b[43m(\u001b[49m\n\u001b[1;32m   1323\u001b[0m \u001b[43m    \u001b[49m\u001b[43manswer\u001b[49m\u001b[43m,\u001b[49m\u001b[43m \u001b[49m\u001b[38;5;28;43mself\u001b[39;49m\u001b[38;5;241;43m.\u001b[39;49m\u001b[43mgateway_client\u001b[49m\u001b[43m,\u001b[49m\u001b[43m \u001b[49m\u001b[38;5;28;43mself\u001b[39;49m\u001b[38;5;241;43m.\u001b[39;49m\u001b[43mtarget_id\u001b[49m\u001b[43m,\u001b[49m\u001b[43m \u001b[49m\u001b[38;5;28;43mself\u001b[39;49m\u001b[38;5;241;43m.\u001b[39;49m\u001b[43mname\u001b[49m\u001b[43m)\u001b[49m\n\u001b[1;32m   1325\u001b[0m \u001b[38;5;28;01mfor\u001b[39;00m temp_arg \u001b[38;5;129;01min\u001b[39;00m temp_args:\n\u001b[1;32m   1326\u001b[0m     \u001b[38;5;28;01mif\u001b[39;00m \u001b[38;5;28mhasattr\u001b[39m(temp_arg, \u001b[38;5;124m\"\u001b[39m\u001b[38;5;124m_detach\u001b[39m\u001b[38;5;124m\"\u001b[39m):\n",
      "File \u001b[0;32m/opt/conda/lib/python3.10/site-packages/pyspark/errors/exceptions/captured.py:185\u001b[0m, in \u001b[0;36mcapture_sql_exception.<locals>.deco\u001b[0;34m(*a, **kw)\u001b[0m\n\u001b[1;32m    181\u001b[0m converted \u001b[38;5;241m=\u001b[39m convert_exception(e\u001b[38;5;241m.\u001b[39mjava_exception)\n\u001b[1;32m    182\u001b[0m \u001b[38;5;28;01mif\u001b[39;00m \u001b[38;5;129;01mnot\u001b[39;00m \u001b[38;5;28misinstance\u001b[39m(converted, UnknownException):\n\u001b[1;32m    183\u001b[0m     \u001b[38;5;66;03m# Hide where the exception came from that shows a non-Pythonic\u001b[39;00m\n\u001b[1;32m    184\u001b[0m     \u001b[38;5;66;03m# JVM exception message.\u001b[39;00m\n\u001b[0;32m--> 185\u001b[0m     \u001b[38;5;28;01mraise\u001b[39;00m converted \u001b[38;5;28;01mfrom\u001b[39;00m \u001b[38;5;28;01mNone\u001b[39;00m\n\u001b[1;32m    186\u001b[0m \u001b[38;5;28;01melse\u001b[39;00m:\n\u001b[1;32m    187\u001b[0m     \u001b[38;5;28;01mraise\u001b[39;00m\n",
      "\u001b[0;31mIllegalArgumentException\u001b[0m: requirement failed: Output column main_category_index already exists."
     ]
    }
   ],
   "source": [
    "testData = pipeline_model.transform(testData)\n",
    "predictions = gbt_model.transform(testData)\n",
    "\n",
    "f1 = evaluator_f1.evaluate(predictions)\n",
    "area_under_roc = evaluator.evaluate(predictions)\n",
    "print(f\"Area under ROC on test data = {area_under_roc}\")\n",
    "print(f\"F1 measure on test data = {f1}\")"
   ]
  },
  {
   "cell_type": "markdown",
   "id": "5b69e607-f3ea-459a-ae30-233297e90b59",
   "metadata": {},
   "source": [
    "#### Feature Importance"
   ]
  },
  {
   "cell_type": "code",
   "execution_count": 28,
   "id": "76dd5762-3799-4059-a04f-f6b6fcc719de",
   "metadata": {
    "tags": []
   },
   "outputs": [
    {
     "name": "stdout",
     "output_type": "stream",
     "text": [
      "Numerical Feature Importance Scores:\n",
      "time_interval: 0.22010224962570932\n",
      "goal: 0.19888371620122053\n",
      "length_of_title: 0.08503347005558279\n",
      "\n",
      "Categorical Feature Importance Scores:\n",
      "year: 0.23111972170797498\n",
      "category: 0.22010224962570932\n",
      "day_of_week: 0.12199332076805919\n",
      "main_category: 0.08503347005558279\n",
      "continent: 0.05835562065912695\n",
      "month: 0.04717827568035861\n",
      "use_of_?!: 0.030300512379722342\n",
      "currency: 0.0010114638010373575\n"
     ]
    }
   ],
   "source": [
    "#Collect feature importance scores\n",
    "feature_importance = gbt_model.featureImportances\n",
    "feature_importance_scores = feature_importance.toArray().tolist()\n",
    "\n",
    "#Rename the numerical columns\n",
    "original_numerical_indices = [num_assembler.getInputCols().index(feature) for feature in numerical_cols]\n",
    "\n",
    "#Mapping original numerical feature names to importance scores\n",
    "original_numerical_importance_dict = dict(zip(numerical_cols, [feature_importance_scores[i] for i in original_numerical_indices]))\n",
    "\n",
    "#Rename the categorical columns (e.g. year_index -> year)\n",
    "original_categorical_indices = [assembler_all.getInputCols().index(feature + \"_index\") for feature in categorical_cols]\n",
    "\n",
    "#Mmapping original categorical feature names to importance scores\n",
    "original_categorical_importance_dict = dict(zip(categorical_cols, [feature_importance_scores[i] for i in original_categorical_indices]))\n",
    "\n",
    "#Print numerical feature importance scores\n",
    "print(\"Numerical Feature Importance Scores:\")\n",
    "for feature, importance in sorted(original_numerical_importance_dict.items(), key=lambda x: x[1], reverse=True):\n",
    "    print(f\"{feature}: {importance}\")\n",
    "\n",
    "#Print categorical feature importance scores\n",
    "print(\"\\nCategorical Feature Importance Scores:\")\n",
    "for feature, importance in sorted(original_categorical_importance_dict.items(), key=lambda x: x[1], reverse=True):\n",
    "    print(f\"{feature}: {importance}\")"
   ]
  },
  {
   "cell_type": "code",
   "execution_count": 29,
   "id": "6a10f8bd-9efb-40a5-939e-402157b35051",
   "metadata": {
    "tags": []
   },
   "outputs": [
    {
     "data": {
      "image/png": "[encoded data removed]",
      "text/plain": [
       "<Figure size 700x400 with 1 Axes>"
      ]
     },
     "metadata": {},
     "output_type": "display_data"
    }
   ],
   "source": [
    "import matplotlib.pyplot as plt\n",
    "\n",
    "#Combine numerical and categorical importance\n",
    "all_importance_dict = {**original_numerical_importance_dict, **original_categorical_importance_dict}\n",
    "\n",
    "#Sort features by importance\n",
    "sorted_features = sorted(all_importance_dict.items(), key=lambda x: x[1], reverse=True)\n",
    "\n",
    "#Extract feature names and importance scores for plotting\n",
    "features, importance_scores = zip(*sorted_features)\n",
    "\n",
    "plt.figure(figsize=(7, 4))\n",
    "plt.barh(range(len(features)), importance_scores, align='center', color='#8cb847')\n",
    "plt.yticks(range(len(features)), features, fontsize=12)\n",
    "plt.xlabel('Feature Importance', fontsize=13)\n",
    "plt.title('GBT Model Feature Importance', fontsize=14)\n",
    "plt.show()"
   ]
  }
 ],
 "metadata": {
  "kernelspec": {
   "display_name": "Python 3 (ipykernel)",
   "language": "python",
   "name": "python3"
  },
  "language_info": {
   "codemirror_mode": {
    "name": "ipython",
    "version": 3
   },
   "file_extension": ".py",
   "mimetype": "text/x-python",
   "name": "python",
   "nbconvert_exporter": "python",
   "pygments_lexer": "ipython3",
   "version": "3.10.11"
  }
 },
 "nbformat": 4,
 "nbformat_minor": 5
}
