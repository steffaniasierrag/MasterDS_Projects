{
 "cells": [
  {
   "cell_type": "code",
   "execution_count": 1,
   "id": "0bcb3a0f-3a77-4eec-bf3f-22eefd4a36b5",
   "metadata": {
    "tags": []
   },
   "outputs": [],
   "source": [
    "from pyspark import SparkContext\n",
    "from pyspark.sql import SparkSession\n",
    "import matplotlib.pyplot as plt\n",
    "\n",
    "from pyspark.ml import Pipeline\n",
    "from pyspark.ml.feature import StringIndexer, VectorAssembler, RobustScaler\n",
    "from pyspark.sql.functions import when\n",
    "from pyspark.ml.functions import vector_to_array"
   ]
  },
  {
   "cell_type": "code",
   "execution_count": 2,
   "id": "742bb37c-228c-403a-a2cd-acd2b039a6b1",
   "metadata": {
    "tags": []
   },
   "outputs": [
    {
     "name": "stderr",
     "output_type": "stream",
     "text": [
      "Setting default log level to \"WARN\".\n",
      "To adjust logging level use sc.setLogLevel(newLevel). For SparkR, use setLogLevel(newLevel).\n",
      "23/12/15 16:53:08 WARN NativeCodeLoader: Unable to load native-hadoop library for your platform... using builtin-java classes where applicable\n"
     ]
    }
   ],
   "source": [
    "spark = SparkSession.builder \\\n",
    "    .master(\"local\") \\\n",
    "    .appName(\"AppName\") \\\n",
    "    .getOrCreate()"
   ]
  },
  {
   "cell_type": "markdown",
   "id": "1930d35f-aa74-4811-83bb-40245f1bbdfc",
   "metadata": {
    "tags": []
   },
   "source": [
    "# Data Loading"
   ]
  },
  {
   "cell_type": "code",
   "execution_count": 3,
   "id": "2b8a0d61-4430-41be-bc17-8659f7950c3d",
   "metadata": {
    "tags": []
   },
   "outputs": [
    {
     "name": "stderr",
     "output_type": "stream",
     "text": [
      "                                                                                \r"
     ]
    }
   ],
   "source": [
    "df = spark.read.option('escape','\"').csv('kickstarter_cleaned.csv', header=True, inferSchema=True, mode=\"DROPMALFORMED\")\n",
    "df = df.dropna()\n",
    "df = df.drop(\"name\",\"backers\",\"pledged\")"
   ]
  },
  {
   "cell_type": "code",
   "execution_count": 4,
   "id": "b56ca512-b9f8-4653-846f-32c9450b4506",
   "metadata": {
    "tags": []
   },
   "outputs": [
    {
     "name": "stdout",
     "output_type": "stream",
     "text": [
      "root\n",
      " |-- category: string (nullable = true)\n",
      " |-- main_category: string (nullable = true)\n",
      " |-- currency: string (nullable = true)\n",
      " |-- state: integer (nullable = true)\n",
      " |-- goal: double (nullable = true)\n",
      " |-- year: integer (nullable = true)\n",
      " |-- month: integer (nullable = true)\n",
      " |-- day_of_week: integer (nullable = true)\n",
      " |-- time_interval: integer (nullable = true)\n",
      " |-- length_of_title: integer (nullable = true)\n",
      " |-- use_of_?!: integer (nullable = true)\n",
      " |-- continent: string (nullable = true)\n",
      "\n"
     ]
    }
   ],
   "source": [
    "df = df.withColumn(\"state\", when(df.state == \"failed\",0) \\\n",
    "      .when(df.state == \"successful\",1))\n",
    "df.printSchema()"
   ]
  },
  {
   "cell_type": "code",
   "execution_count": 5,
   "id": "e92b562a-014d-4061-9fe1-f9e097ba7ce8",
   "metadata": {},
   "outputs": [],
   "source": [
    "(trainingData, testData) = df.randomSplit([0.7, 0.3])"
   ]
  },
  {
   "cell_type": "markdown",
   "id": "005e40df-2455-4b89-9b78-a599ab334d2f",
   "metadata": {
    "tags": []
   },
   "source": [
    "# Data preparation for classification"
   ]
  },
  {
   "cell_type": "code",
   "execution_count": 6,
   "id": "7f5b147b-6979-47be-833d-cf4123019e14",
   "metadata": {
    "tags": []
   },
   "outputs": [],
   "source": [
    "categorical_cols = [\"category\",\"main_category\", \"currency\", \"year\", \"month\", \"day_of_week\", \"continent\", \"use_of_?!\"]\n",
    "numerical_cols = [\"goal\", \"time_interval\", \"length_of_title\"]\n",
    "\n",
    "#create the indexer for the strings columns\n",
    "indexers = [StringIndexer(inputCol=col, outputCol=col+\"_index\") for col in categorical_cols]\n",
    "\n",
    "num_assembler = VectorAssembler(inputCols=numerical_cols, outputCol=\"features\")\n",
    "scaler = RobustScaler(inputCol=\"features\", outputCol=\"scaled_features\")\n",
    "assembler_all = VectorAssembler(inputCols=[\"features\"] + [col+\"_index\" for col in categorical_cols], outputCol=\"final_features\")"
   ]
  },
  {
   "cell_type": "code",
   "execution_count": 7,
   "id": "aee14bd5-89b4-4732-83aa-48cad4f09927",
   "metadata": {
    "tags": []
   },
   "outputs": [
    {
     "name": "stderr",
     "output_type": "stream",
     "text": [
      "                                                                                \r"
     ]
    }
   ],
   "source": [
    "pipeline = Pipeline(stages=indexers + [num_assembler, scaler, assembler_all])\n",
    "pipeline_model = pipeline.fit(trainingData)\n",
    "trainingData = pipeline_model.transform(trainingData).select(\"final_features\", \"state\")"
   ]
  },
  {
   "cell_type": "code",
   "execution_count": 8,
   "id": "e7f15323-fdbe-4845-9d54-d2fe772f25c5",
   "metadata": {},
   "outputs": [],
   "source": [
    "testData = pipeline_model.transform(testData).select(\"final_features\", \"state\")"
   ]
  },
  {
   "cell_type": "markdown",
   "id": "13300bb4-cf63-46c1-88d4-7a2c9301b329",
   "metadata": {
    "tags": []
   },
   "source": [
    "# Classification"
   ]
  },
  {
   "cell_type": "code",
   "execution_count": 9,
   "id": "2f751d88-0081-4fda-b3fe-629867527e0a",
   "metadata": {
    "tags": []
   },
   "outputs": [],
   "source": [
    "from pyspark.ml.classification import DecisionTreeClassifier, RandomForestClassifier\n",
    "from pyspark.ml.tuning import ParamGridBuilder, CrossValidator\n",
    "from pyspark.ml.evaluation import BinaryClassificationEvaluator, MulticlassClassificationEvaluator\n",
    "from pyspark.mllib.evaluation import BinaryClassificationMetrics, MulticlassMetrics"
   ]
  },
  {
   "cell_type": "markdown",
   "id": "f2752a56-da35-4912-a22b-1417f20f1934",
   "metadata": {
    "tags": []
   },
   "source": [
    "## DecisionTreeClassifier"
   ]
  },
  {
   "cell_type": "code",
   "execution_count": 10,
   "id": "0a43d5f7-dd58-4de5-a906-6dbd9fb29988",
   "metadata": {
    "tags": []
   },
   "outputs": [],
   "source": [
    "dt = DecisionTreeClassifier(labelCol=\"state\", featuresCol=\"final_features\",maxBins=159)\n",
    "\n",
    "param_grid = ParamGridBuilder() \\\n",
    "    .addGrid(dt.maxDepth, [10,15,20]) \\\n",
    "    .addGrid(dt.minInstancesPerNode, [60,80,100]) \\\n",
    "    .addGrid(dt.impurity, [\"gini\",\"entropy\"]) \\\n",
    "    .build()\n",
    "\n",
    "\n",
    "\n",
    "#Evaluator used for the cross validation\n",
    "evaluator = MulticlassClassificationEvaluator(labelCol=\"state\", metricName=\"accuracy\")\n",
    "crossval = CrossValidator(estimator=dt,\n",
    "                          estimatorParamMaps=param_grid,\n",
    "                          evaluator=evaluator,\n",
    "                          numFolds=4) "
   ]
  },
  {
   "cell_type": "code",
   "execution_count": 11,
   "id": "2e409906-a7b3-4764-a56a-caf696919e01",
   "metadata": {
    "tags": []
   },
   "outputs": [
    {
     "name": "stderr",
     "output_type": "stream",
     "text": [
      "23/12/15 16:55:47 WARN DAGScheduler: Broadcasting large task binary with size 1005.3 KiB\n",
      "23/12/15 16:55:47 WARN DAGScheduler: Broadcasting large task binary with size 1027.2 KiB\n",
      "23/12/15 16:55:48 WARN DAGScheduler: Broadcasting large task binary with size 1038.3 KiB\n",
      "23/12/15 16:55:57 WARN DAGScheduler: Broadcasting large task binary with size 1015.8 KiB\n",
      "23/12/15 16:57:55 WARN DAGScheduler: Broadcasting large task binary with size 1006.5 KiB\n",
      "23/12/15 16:57:56 WARN DAGScheduler: Broadcasting large task binary with size 1029.6 KiB\n",
      "23/12/15 16:57:56 WARN DAGScheduler: Broadcasting large task binary with size 1038.5 KiB\n",
      "23/12/15 16:58:04 WARN DAGScheduler: Broadcasting large task binary with size 1009.5 KiB\n",
      "23/12/15 16:58:05 WARN DAGScheduler: Broadcasting large task binary with size 1029.6 KiB\n",
      "23/12/15 17:00:11 WARN DAGScheduler: Broadcasting large task binary with size 1014.0 KiB\n",
      "23/12/15 17:00:11 WARN DAGScheduler: Broadcasting large task binary with size 1035.5 KiB\n",
      "23/12/15 17:00:14 WARN DAGScheduler: Broadcasting large task binary with size 1047.6 KiB\n",
      "23/12/15 17:00:24 WARN DAGScheduler: Broadcasting large task binary with size 1013.0 KiB\n",
      "23/12/15 17:00:25 WARN DAGScheduler: Broadcasting large task binary with size 1024.4 KiB\n",
      "23/12/15 17:02:25 WARN DAGScheduler: Broadcasting large task binary with size 1005.0 KiB\n",
      "23/12/15 17:02:27 WARN DAGScheduler: Broadcasting large task binary with size 1014.5 KiB\n",
      "23/12/15 17:02:40 WARN DAGScheduler: Broadcasting large task binary with size 1015.3 KiB\n",
      "                                                                                \r"
     ]
    },
    {
     "name": "stdout",
     "output_type": "stream",
     "text": [
      "CPU times: user 3.01 s, sys: 866 ms, total: 3.87 s\n",
      "Wall time: 9min 23s\n"
     ]
    }
   ],
   "source": [
    "%%time\n",
    "cv_model = crossval.fit(trainingData)"
   ]
  },
  {
   "cell_type": "code",
   "execution_count": 12,
   "id": "a066f0ce-8959-4361-8cc6-a29fe49540f0",
   "metadata": {
    "tags": []
   },
   "outputs": [
    {
     "name": "stdout",
     "output_type": "stream",
     "text": [
      "Best hyperparameters:\n",
      "Max Depth: 15\n",
      "Min Instances Per Node: 100\n",
      "Impurity: gini\n"
     ]
    }
   ],
   "source": [
    "predictions = cv_model.transform(testData)\n",
    "\n",
    "best_model = cv_model.bestModel\n",
    "print(\"Best hyperparameters:\")\n",
    "print(f\"Max Depth: {best_model.getMaxDepth()}\")\n",
    "print(f\"Min Instances Per Node: {best_model.getMinInstancesPerNode()}\")\n",
    "print(f\"Impurity: {best_model.getImpurity()}\")"
   ]
  },
  {
   "cell_type": "code",
   "execution_count": 13,
   "id": "db7fca80-f483-4584-8bf8-5b76f8faae9a",
   "metadata": {
    "tags": []
   },
   "outputs": [
    {
     "name": "stderr",
     "output_type": "stream",
     "text": [
      "/opt/conda/lib/python3.10/site-packages/pyspark/sql/context.py:158: FutureWarning: Deprecated in 3.0.0. Use SparkSession.builder.getOrCreate() instead.\n",
      "  warnings.warn(\n",
      "                                                                                \r"
     ]
    },
    {
     "name": "stdout",
     "output_type": "stream",
     "text": [
      "Summary Stats\n"
     ]
    },
    {
     "name": "stderr",
     "output_type": "stream",
     "text": [
      "[Stage 2892:>                                                       (0 + 1) / 1]\r"
     ]
    },
    {
     "name": "stdout",
     "output_type": "stream",
     "text": [
      "Accuracy = 0.6733529257835302\n",
      "Precision = 0.6127743320610687\n",
      "Recall = 0.5135060846098103\n",
      "F-measure = 0.558765549588743\n",
      "Area under ROC = 0.6473309084637551\n"
     ]
    },
    {
     "name": "stderr",
     "output_type": "stream",
     "text": [
      "                                                                                \r"
     ]
    }
   ],
   "source": [
    "preds = predictions.select('prediction','state').rdd.map(lambda row: (float(row['prediction']), float(row['state'])))\n",
    "# Instantiate metrics object\n",
    "\n",
    "area_under_roc = BinaryClassificationMetrics(preds).areaUnderROC\n",
    "metrics = MulticlassMetrics(preds)\n",
    "\n",
    "# Overall statistics\n",
    "print(\"Summary Stats\")\n",
    "print(\"Accuracy = %s\" % metrics.accuracy)\n",
    "print(\"Precision = %s\" % metrics.precision(1.0))\n",
    "print(\"Recall = %s\" % metrics.recall(1.0))\n",
    "print(\"F-measure = %s\" % metrics.fMeasure(1.0))\n",
    "print(f\"Area under ROC = %s\"% area_under_roc)"
   ]
  },
  {
   "cell_type": "code",
   "execution_count": 14,
   "id": "aa5e93ed-4ea7-4a67-83bc-7d2359711a9a",
   "metadata": {
    "tags": []
   },
   "outputs": [
    {
     "name": "stdout",
     "output_type": "stream",
     "text": [
      "Numerical Feature Importance Scores:\n",
      "goal: 0.33150411110626543\n",
      "time_interval: 0.1232256016511175\n",
      "length_of_title: 0.0659026799294873\n",
      "\n",
      "Categorical Feature Importance Scores:\n",
      "currency: 0.31638482156341036\n",
      "category: 0.1232256016511175\n",
      "year: 0.08528310573596351\n",
      "main_category: 0.0659026799294873\n",
      "day_of_week: 0.04266792946980381\n",
      "continent: 0.01822660332340987\n",
      "use_of_?!: 0.009427326210632645\n",
      "month: 0.005009175271349305\n"
     ]
    }
   ],
   "source": [
    "#Collect feature importance scores\n",
    "feature_importance_scores = best_model.featureImportances.toArray().tolist()\n",
    "\n",
    "#Rename the numerical columns\n",
    "original_numerical_indices = [num_assembler.getInputCols().index(feature) for feature in numerical_cols]\n",
    "\n",
    "#Mapping original numerical feature names to importance scores\n",
    "original_numerical_importance_dict = dict(zip(numerical_cols, [feature_importance_scores[i] for i in original_numerical_indices]))\n",
    "\n",
    "\n",
    "#Rename the categorical columns (e.g. year_index -> year)\n",
    "original_categorical_indices = [assembler_all.getInputCols().index(feature + \"_index\") for feature in categorical_cols]\n",
    "\n",
    "#Mmapping original categorical feature names to importance scores\n",
    "original_categorical_importance_dict = dict(zip(categorical_cols, [feature_importance_scores[i] for i in original_categorical_indices]))\n",
    "\n",
    "#Print numerical feature importance scores\n",
    "print(\"Numerical Feature Importance Scores:\")\n",
    "for feature, importance in sorted(original_numerical_importance_dict.items(), key=lambda x: x[1], reverse=True):\n",
    "    print(f\"{feature}: {importance}\")\n",
    "\n",
    "#Print categorical feature importance scores\n",
    "print(\"\\nCategorical Feature Importance Scores:\")\n",
    "for feature, importance in sorted(original_categorical_importance_dict.items(), key=lambda x: x[1], reverse=True):\n",
    "    print(f\"{feature}: {importance}\")"
   ]
  },
  {
   "cell_type": "code",
   "execution_count": 15,
   "id": "80e3277e-809f-4e09-929e-33cd1847ad7d",
   "metadata": {
    "tags": []
   },
   "outputs": [
    {
     "data": {
      "image/png": "[encoded data removed]",
      "text/plain": [
       "<Figure size 600x500 with 1 Axes>"
      ]
     },
     "metadata": {},
     "output_type": "display_data"
    }
   ],
   "source": [
    "#Combine numerical and categorical importance\n",
    "all_importance_dict = {**original_numerical_importance_dict, **original_categorical_importance_dict}\n",
    "\n",
    "#Sort features by importance\n",
    "sorted_features = sorted(all_importance_dict.items(), key=lambda x: x[1], reverse=True)\n",
    "\n",
    "#Extract feature names and importance scores for plotting\n",
    "features, importance_scores = zip(*sorted_features)\n",
    "\n",
    "plt.figure(figsize=(6, 5))\n",
    "plt.barh(range(len(features)), importance_scores, align='center',color=\"#8cb847\")\n",
    "plt.yticks(range(len(features)), features)\n",
    "plt.xlabel('Feature Importance')\n",
    "plt.tick_params(axis='y', labelsize=10)\n",
    "plt.title('DT Model Feature Importance')\n",
    "plt.show()"
   ]
  },
  {
   "cell_type": "markdown",
   "id": "5455af3f-2d1e-40d5-869d-ff624dddcc68",
   "metadata": {
    "tags": []
   },
   "source": [
    "## Random forest"
   ]
  },
  {
   "cell_type": "code",
   "execution_count": 16,
   "id": "86fa9746-8630-4b62-b53d-43032372d623",
   "metadata": {
    "tags": []
   },
   "outputs": [],
   "source": [
    "rf = RandomForestClassifier(labelCol=\"state\", featuresCol=\"final_features\",maxBins=159)\n",
    "\n",
    "\n",
    "param_grid = ParamGridBuilder() \\\n",
    "    .addGrid(rf.numTrees, [30,40,50]) \\\n",
    "    .addGrid(rf.maxDepth, [2,3,4]) \\\n",
    "    .build()\n",
    "\n",
    "\n",
    "evaluator = MulticlassClassificationEvaluator(labelCol=\"state\", metricName=\"accuracy\")\n",
    "crossval = CrossValidator(estimator=rf,\n",
    "                          estimatorParamMaps=param_grid,\n",
    "                          evaluator=evaluator,\n",
    "                          numFolds=4) "
   ]
  },
  {
   "cell_type": "code",
   "execution_count": 17,
   "id": "848303d2-24d6-4b00-b6f7-0f0e503a7a5d",
   "metadata": {
    "tags": []
   },
   "outputs": [
    {
     "name": "stderr",
     "output_type": "stream",
     "text": [
      "                                                                                \r"
     ]
    },
    {
     "name": "stdout",
     "output_type": "stream",
     "text": [
      "CPU times: user 2.49 s, sys: 633 ms, total: 3.13 s\n",
      "Wall time: 7min 35s\n"
     ]
    }
   ],
   "source": [
    "%%time\n",
    "cv_model = crossval.fit(trainingData)"
   ]
  },
  {
   "cell_type": "code",
   "execution_count": 18,
   "id": "48841bdb-da00-47d6-9410-e90b2ea64b49",
   "metadata": {
    "tags": []
   },
   "outputs": [
    {
     "name": "stdout",
     "output_type": "stream",
     "text": [
      "Best hyperparameters:\n",
      "Max Depth: 4\n",
      "Num Trees: 50\n"
     ]
    }
   ],
   "source": [
    "predictions = cv_model.transform(testData)\n",
    "best_model = cv_model.bestModel\n",
    "print(\"Best hyperparameters:\")\n",
    "print(f\"Max Depth: {best_model.getMaxDepth()}\")\n",
    "print(f\"Num Trees: {best_model.getNumTrees}\")"
   ]
  },
  {
   "cell_type": "code",
   "execution_count": 19,
   "id": "d160c3d3-9248-4af3-b53d-969d52ea4201",
   "metadata": {
    "tags": []
   },
   "outputs": [
    {
     "name": "stderr",
     "output_type": "stream",
     "text": [
      "                                                                                \r"
     ]
    },
    {
     "name": "stdout",
     "output_type": "stream",
     "text": [
      "Summary Stats\n"
     ]
    },
    {
     "name": "stderr",
     "output_type": "stream",
     "text": [
      "[Stage 3468:>                                                       (0 + 1) / 1]\r"
     ]
    },
    {
     "name": "stdout",
     "output_type": "stream",
     "text": [
      "Accuracy = 0.6503955393627086\n",
      "Precision = 0.6210087498282102\n",
      "Recall = 0.3387390989280092\n",
      "F-measure = 0.4383650239296339\n",
      "Area under ROC = 0.5996599149908926\n"
     ]
    },
    {
     "name": "stderr",
     "output_type": "stream",
     "text": [
      "                                                                                \r"
     ]
    }
   ],
   "source": [
    "preds = predictions.select('prediction','state').rdd.map(lambda row: (float(row['prediction']), float(row['state'])))\n",
    "# Instantiate metrics object\n",
    "\n",
    "area_under_roc = BinaryClassificationMetrics(preds).areaUnderROC\n",
    "metrics = MulticlassMetrics(preds)\n",
    "\n",
    "# Overall statistics\n",
    "print(\"Summary Stats\")\n",
    "print(\"Accuracy = %s\" % metrics.accuracy)\n",
    "print(\"Precision = %s\" % metrics.precision(1.0))\n",
    "print(\"Recall = %s\" % metrics.recall(1.0))\n",
    "print(\"F-measure = %s\" % metrics.fMeasure(1.0))\n",
    "print(f\"Area under ROC = %s\"% area_under_roc)"
   ]
  },
  {
   "cell_type": "code",
   "execution_count": 20,
   "id": "a4884234-dc49-4d9c-b123-51df06ebfe22",
   "metadata": {
    "tags": []
   },
   "outputs": [
    {
     "name": "stdout",
     "output_type": "stream",
     "text": [
      "Numerical Feature Importance Scores:\n",
      "goal: 0.3889083305046366\n",
      "time_interval: 0.14080109273099167\n",
      "length_of_title: 0.04332169402164317\n",
      "\n",
      "Categorical Feature Importance Scores:\n",
      "currency: 0.2904662320868559\n",
      "category: 0.14080109273099167\n",
      "year: 0.10301381956356631\n",
      "main_category: 0.04332169402164317\n",
      "day_of_week: 0.0292611339095357\n",
      "month: 0.004192844579385815\n",
      "continent: 3.485260338488664e-05\n",
      "use_of_?!: 0.0\n"
     ]
    }
   ],
   "source": [
    "#Collect feature importance scores\n",
    "feature_importance_scores = best_model.featureImportances.toArray().tolist()\n",
    "\n",
    "#Rename the numerical columns\n",
    "original_numerical_indices = [num_assembler.getInputCols().index(feature) for feature in numerical_cols]\n",
    "\n",
    "#Mapping original numerical feature names to importance scores\n",
    "original_numerical_importance_dict = dict(zip(numerical_cols, [feature_importance_scores[i] for i in original_numerical_indices]))\n",
    "\n",
    "\n",
    "#Rename the categorical columns (e.g. year_index -> year)\n",
    "original_categorical_indices = [assembler_all.getInputCols().index(feature + \"_index\") for feature in categorical_cols]\n",
    "\n",
    "#Mmapping original categorical feature names to importance scores\n",
    "original_categorical_importance_dict = dict(zip(categorical_cols, [feature_importance_scores[i] for i in original_categorical_indices]))\n",
    "\n",
    "#Print numerical feature importance scores\n",
    "print(\"Numerical Feature Importance Scores:\")\n",
    "for feature, importance in sorted(original_numerical_importance_dict.items(), key=lambda x: x[1], reverse=True):\n",
    "    print(f\"{feature}: {importance}\")\n",
    "\n",
    "#Print categorical feature importance scores\n",
    "print(\"\\nCategorical Feature Importance Scores:\")\n",
    "for feature, importance in sorted(original_categorical_importance_dict.items(), key=lambda x: x[1], reverse=True):\n",
    "    print(f\"{feature}: {importance}\")"
   ]
  },
  {
   "cell_type": "code",
   "execution_count": 21,
   "id": "51e015ba-e3b4-456a-be3f-955f38cd9556",
   "metadata": {
    "tags": []
   },
   "outputs": [
    {
     "data": {
      "image/png": "[encoded data removed]",
      "text/plain": [
       "<Figure size 600x500 with 1 Axes>"
      ]
     },
     "metadata": {},
     "output_type": "display_data"
    }
   ],
   "source": [
    "#Combine numerical and categorical importance\n",
    "all_importance_dict = {**original_numerical_importance_dict, **original_categorical_importance_dict}\n",
    "\n",
    "#Sort features by importance\n",
    "sorted_features = sorted(all_importance_dict.items(), key=lambda x: x[1], reverse=True)\n",
    "\n",
    "#Extract feature names and importance scores for plotting\n",
    "features, importance_scores = zip(*sorted_features)\n",
    "\n",
    "plt.figure(figsize=(6, 5))\n",
    "plt.barh(range(len(features)), importance_scores, align='center',color=\"#8cb847\")\n",
    "plt.yticks(range(len(features)), features)\n",
    "plt.xlabel('Feature Importance')\n",
    "plt.tick_params(axis='y', labelsize=10)\n",
    "plt.title('DT Model Feature Importance')\n",
    "plt.show()"
   ]
  }
 ],
 "metadata": {
  "kernelspec": {
   "display_name": "Python [conda env:root] *",
   "language": "python",
   "name": "conda-root-py"
  },
  "language_info": {
   "codemirror_mode": {
    "name": "ipython",
    "version": 3
   },
   "file_extension": ".py",
   "mimetype": "text/x-python",
   "name": "python",
   "nbconvert_exporter": "python",
   "pygments_lexer": "ipython3",
   "version": "3.10.11"
  }
 },
 "nbformat": 4,
 "nbformat_minor": 5
}
